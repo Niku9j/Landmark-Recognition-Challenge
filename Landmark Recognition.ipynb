{
 "cells": [
  {
   "cell_type": "markdown",
   "metadata": {
    "colab_type": "text",
    "id": "eoS6HPmYrHIp"
   },
   "source": [
    "# Install & Import Libraries"
   ]
  },
  {
   "cell_type": "code",
   "execution_count": 3,
   "metadata": {
    "colab": {
     "autoexec": {
      "startup": false,
      "wait_interval": 0
     },
     "base_uri": "https://localhost:8080/",
     "height": 122
    },
    "colab_type": "code",
    "executionInfo": {
     "elapsed": 3297,
     "status": "ok",
     "timestamp": 1528630721064,
     "user": {
      "displayName": "Nikunj jain",
      "photoUrl": "https://lh3.googleusercontent.com/a/default-user=s128",
      "userId": "114830894282907235020"
     },
     "user_tz": -330
    },
    "id": "KNYnYI4nxZ-D",
    "outputId": "a19b82e8-c051-41b5-e31e-0510df854bd3",
    "scrolled": false
   },
   "outputs": [
    {
     "name": "stdout",
     "output_type": "stream",
     "text": [
      "Collecting tqdm\n",
      "\u001b[?25l  Downloading https://files.pythonhosted.org/packages/93/24/6ab1df969db228aed36a648a8959d1027099ce45fad67532b9673d533318/tqdm-4.23.4-py2.py3-none-any.whl (42kB)\n",
      "\u001b[K    100% |████████████████████████████████| 51kB 2.0MB/s \n",
      "\u001b[?25hInstalling collected packages: tqdm\n",
      "Successfully installed tqdm-4.23.4\n"
     ]
    }
   ],
   "source": [
    "!pip install tqdm"
   ]
  },
  {
   "cell_type": "code",
   "execution_count": 4,
   "metadata": {
    "colab": {
     "autoexec": {
      "startup": false,
      "wait_interval": 0
     },
     "base_uri": "https://localhost:8080/",
     "height": 119
    },
    "colab_type": "code",
    "executionInfo": {
     "elapsed": 2946,
     "status": "ok",
     "timestamp": 1528630725146,
     "user": {
      "displayName": "Nikunj jain",
      "photoUrl": "https://lh3.googleusercontent.com/a/default-user=s128",
      "userId": "114830894282907235020"
     },
     "user_tz": -330
    },
    "id": "yNInjfYkkPli",
    "outputId": "6bddb163-a164-4342-f2cb-b75d033c84ed",
    "scrolled": false
   },
   "outputs": [
    {
     "name": "stdout",
     "output_type": "stream",
     "text": [
      "Requirement already satisfied: keras in /usr/local/lib/python3.6/dist-packages (2.1.6)\r\n",
      "Requirement already satisfied: pyyaml in /usr/local/lib/python3.6/dist-packages (from keras) (3.12)\r\n",
      "Requirement already satisfied: numpy>=1.9.1 in /usr/local/lib/python3.6/dist-packages (from keras) (1.14.3)\r\n",
      "Requirement already satisfied: scipy>=0.14 in /usr/local/lib/python3.6/dist-packages (from keras) (0.19.1)\n",
      "Requirement already satisfied: h5py in /usr/local/lib/python3.6/dist-packages (from keras) (2.7.1)\n",
      "Requirement already satisfied: six>=1.9.0 in /usr/local/lib/python3.6/dist-packages (from keras) (1.11.0)\n"
     ]
    }
   ],
   "source": [
    "!pip install keras"
   ]
  },
  {
   "cell_type": "code",
   "execution_count": 5,
   "metadata": {
    "colab": {
     "autoexec": {
      "startup": false,
      "wait_interval": 0
     },
     "base_uri": "https://localhost:8080/",
     "height": 34
    },
    "colab_type": "code",
    "executionInfo": {
     "elapsed": 8745,
     "status": "ok",
     "timestamp": 1528630735117,
     "user": {
      "displayName": "Nikunj jain",
      "photoUrl": "https://lh3.googleusercontent.com/a/default-user=s128",
      "userId": "114830894282907235020"
     },
     "user_tz": -330
    },
    "id": "Dprm0IaxjqFV",
    "outputId": "7c846b21-42da-4b49-c53f-4d83197bdf50"
   },
   "outputs": [
    {
     "name": "stderr",
     "output_type": "stream",
     "text": [
      "Using TensorFlow backend.\n"
     ]
    }
   ],
   "source": [
    "import numpy as np # linear algebra\n",
    "import pandas as pd # data processing, CSV file I/O (e.g. pd.read_csv)\n",
    "from tqdm import tqdm\n",
    "import matplotlib.pyplot as plt\n",
    "import seaborn as sns\n",
    "%matplotlib inline\n",
    "import tensorflow as tf\n",
    "\n",
    "from PIL import ImageFile,Image\n",
    "import h5py\n",
    "#import cv2\n",
    "\n",
    "#import pydotplus\n",
    "from IPython.display import SVG\n",
    "from keras.utils.vis_utils import model_to_dot\n",
    "from matplotlib import cm\n",
    "\n",
    "from sklearn.model_selection import train_test_split\n",
    "from sklearn.ensemble import GradientBoostingClassifier, RandomForestClassifier\n",
    "\n",
    "\n",
    "from keras.utils import plot_model\n",
    "from keras.utils import to_categorical\n",
    "from keras.preprocessing import image as keras_image\n",
    "from keras.preprocessing.image import ImageDataGenerator\n",
    "\n",
    "from keras.models import Sequential, load_model, Model\n",
    "from keras.layers import Input, BatchNormalization\n",
    "from keras.layers import Dense, LSTM, GlobalAveragePooling1D, GlobalAveragePooling2D\n",
    "from keras.layers import Activation, Flatten, Dropout, BatchNormalization\n",
    "from keras.layers import Conv2D, MaxPooling2D, GlobalMaxPooling2D\n",
    "\n",
    "from keras import regularizers # for L2 regularization\n",
    "from keras.preprocessing.image import ImageDataGenerator\n",
    "from keras.applications.inception_v3 import InceptionV3, preprocess_input\n",
    "import scipy\n",
    "from scipy import misc\n",
    "\n",
    "import multiprocessing\n",
    "from multiprocessing.pool import ThreadPool\n",
    "import os\n",
    "from io import BytesIO\n",
    "from urllib import request\n",
    "import re"
   ]
  },
  {
   "cell_type": "markdown",
   "metadata": {
    "colab_type": "text",
    "id": "zFlfeX3irQgd"
   },
   "source": [
    "# Authenticate & Mount Google Drive"
   ]
  },
  {
   "cell_type": "code",
   "execution_count": 6,
   "metadata": {
    "colab": {
     "autoexec": {
      "startup": false,
      "wait_interval": 0
     },
     "base_uri": "https://localhost:8080/",
     "height": 2278
    },
    "colab_type": "code",
    "executionInfo": {
     "elapsed": 31249,
     "status": "ok",
     "timestamp": 1528630774837,
     "user": {
      "displayName": "Nikunj jain",
      "photoUrl": "https://lh3.googleusercontent.com/a/default-user=s128",
      "userId": "114830894282907235020"
     },
     "user_tz": -330
    },
    "id": "Ijrrla3FnScW",
    "outputId": "3eef15cd-3a16-4d27-cd46-09a7a4d1b6ea"
   },
   "outputs": [
    {
     "name": "stdout",
     "output_type": "stream",
     "text": [
      "Preconfiguring packages ...\n",
      "Selecting previously unselected package cron.\n",
      "(Reading database ... 18298 files and directories currently installed.)\n",
      "Preparing to unpack .../00-cron_3.0pl1-128ubuntu5_amd64.deb ...\n",
      "Unpacking cron (3.0pl1-128ubuntu5) ...\n",
      "Selecting previously unselected package libapparmor1:amd64.\n",
      "Preparing to unpack .../01-libapparmor1_2.11.0-2ubuntu17.1_amd64.deb ...\n",
      "Unpacking libapparmor1:amd64 (2.11.0-2ubuntu17.1) ...\n",
      "Selecting previously unselected package libdbus-1-3:amd64.\n",
      "Preparing to unpack .../02-libdbus-1-3_1.10.22-1ubuntu1_amd64.deb ...\n",
      "Unpacking libdbus-1-3:amd64 (1.10.22-1ubuntu1) ...\n",
      "Selecting previously unselected package dbus.\n",
      "Preparing to unpack .../03-dbus_1.10.22-1ubuntu1_amd64.deb ...\n",
      "Unpacking dbus (1.10.22-1ubuntu1) ...\n",
      "Selecting previously unselected package dirmngr.\n",
      "Preparing to unpack .../04-dirmngr_2.1.15-1ubuntu8_amd64.deb ...\n",
      "Unpacking dirmngr (2.1.15-1ubuntu8) ...\n",
      "Selecting previously unselected package distro-info-data.\n",
      "Preparing to unpack .../05-distro-info-data_0.36ubuntu0.2_all.deb ...\n",
      "Unpacking distro-info-data (0.36ubuntu0.2) ...\n",
      "Selecting previously unselected package libkmod2:amd64.\n",
      "Preparing to unpack .../06-libkmod2_24-1ubuntu2_amd64.deb ...\n",
      "Unpacking libkmod2:amd64 (24-1ubuntu2) ...\n",
      "Selecting previously unselected package kmod.\n",
      "Preparing to unpack .../07-kmod_24-1ubuntu2_amd64.deb ...\n",
      "Unpacking kmod (24-1ubuntu2) ...\n",
      "Selecting previously unselected package lsb-release.\n",
      "Preparing to unpack .../08-lsb-release_9.20160110ubuntu5_all.deb ...\n",
      "Unpacking lsb-release (9.20160110ubuntu5) ...\n",
      "Selecting previously unselected package libgirepository-1.0-1:amd64.\n",
      "Preparing to unpack .../09-libgirepository-1.0-1_1.54.1-1_amd64.deb ...\n",
      "Unpacking libgirepository-1.0-1:amd64 (1.54.1-1) ...\n",
      "Selecting previously unselected package gir1.2-glib-2.0:amd64.\n",
      "Preparing to unpack .../10-gir1.2-glib-2.0_1.54.1-1_amd64.deb ...\n",
      "Unpacking gir1.2-glib-2.0:amd64 (1.54.1-1) ...\n",
      "Selecting previously unselected package iso-codes.\n",
      "Preparing to unpack .../11-iso-codes_3.75-1_all.deb ...\n",
      "Unpacking iso-codes (3.75-1) ...\n",
      "Selecting previously unselected package libdbus-glib-1-2:amd64.\n",
      "Preparing to unpack .../12-libdbus-glib-1-2_0.108-2_amd64.deb ...\n",
      "Unpacking libdbus-glib-1-2:amd64 (0.108-2) ...\n",
      "Selecting previously unselected package python-apt-common.\n",
      "Preparing to unpack .../13-python-apt-common_1.4.0~beta3build2_all.deb ...\n",
      "Unpacking python-apt-common (1.4.0~beta3build2) ...\n",
      "Selecting previously unselected package python3-apt.\n",
      "Preparing to unpack .../14-python3-apt_1.4.0~beta3build2_amd64.deb ...\n",
      "Unpacking python3-apt (1.4.0~beta3build2) ...\n",
      "Selecting previously unselected package python3-dbus.\n",
      "Preparing to unpack .../15-python3-dbus_1.2.4-1build3_amd64.deb ...\n",
      "Unpacking python3-dbus (1.2.4-1build3) ...\n",
      "Selecting previously unselected package python3-gi.\n",
      "Preparing to unpack .../16-python3-gi_3.24.1-2build1_amd64.deb ...\n",
      "Unpacking python3-gi (3.24.1-2build1) ...\n",
      "Selecting previously unselected package module-init-tools.\n",
      "Preparing to unpack .../17-module-init-tools_24-1ubuntu2_all.deb ...\n",
      "Unpacking module-init-tools (24-1ubuntu2) ...\n",
      "Selecting previously unselected package python-apt.\n",
      "Preparing to unpack .../18-python-apt_1.4.0~beta3build2_amd64.deb ...\n",
      "Unpacking python-apt (1.4.0~beta3build2) ...\n",
      "Selecting previously unselected package python-pycurl.\n",
      "Preparing to unpack .../19-python-pycurl_7.43.0-2build2_amd64.deb ...\n",
      "Unpacking python-pycurl (7.43.0-2build2) ...\n",
      "Selecting previously unselected package python-software-properties.\n",
      "Preparing to unpack .../20-python-software-properties_0.96.24.17_all.deb ...\n",
      "Unpacking python-software-properties (0.96.24.17) ...\n",
      "Selecting previously unselected package python3-software-properties.\n",
      "Preparing to unpack .../21-python3-software-properties_0.96.24.17_all.deb ...\n",
      "Unpacking python3-software-properties (0.96.24.17) ...\n",
      "Selecting previously unselected package software-properties-common.\n",
      "Preparing to unpack .../22-software-properties-common_0.96.24.17_all.deb ...\n",
      "Unpacking software-properties-common (0.96.24.17) ...\n",
      "Selecting previously unselected package unattended-upgrades.\n",
      "Preparing to unpack .../23-unattended-upgrades_0.98ubuntu1.1_all.deb ...\n",
      "Unpacking unattended-upgrades (0.98ubuntu1.1) ...\n",
      "Setting up python-apt-common (1.4.0~beta3build2) ...\n",
      "Setting up python3-apt (1.4.0~beta3build2) ...\n",
      "Setting up iso-codes (3.75-1) ...\n",
      "Setting up distro-info-data (0.36ubuntu0.2) ...\n",
      "Setting up python-pycurl (7.43.0-2build2) ...\n",
      "Setting up lsb-release (9.20160110ubuntu5) ...\n",
      "Setting up libgirepository-1.0-1:amd64 (1.54.1-1) ...\n",
      "Setting up libkmod2:amd64 (24-1ubuntu2) ...\n",
      "Setting up gir1.2-glib-2.0:amd64 (1.54.1-1) ...\n",
      "Processing triggers for libc-bin (2.26-0ubuntu2.1) ...\n",
      "Setting up libapparmor1:amd64 (2.11.0-2ubuntu17.1) ...\n",
      "Setting up unattended-upgrades (0.98ubuntu1.1) ...\n",
      "\n",
      "Creating config file /etc/apt/apt.conf.d/20auto-upgrades with new version\n",
      "\n",
      "Creating config file /etc/apt/apt.conf.d/50unattended-upgrades with new version\n",
      "invoke-rc.d: could not determine current runlevel\n",
      "invoke-rc.d: policy-rc.d denied execution of start.\n",
      "Setting up dirmngr (2.1.15-1ubuntu8) ...\n",
      "Setting up cron (3.0pl1-128ubuntu5) ...\n",
      "Adding group `crontab' (GID 102) ...\n",
      "Done.\n",
      "update-rc.d: warning: start and stop actions are no longer supported; falling back to defaults\n",
      "update-rc.d: warning: stop runlevel arguments (1) do not match cron Default-Stop values (none)\n",
      "invoke-rc.d: could not determine current runlevel\n",
      "invoke-rc.d: policy-rc.d denied execution of start.\n",
      "Setting up libdbus-1-3:amd64 (1.10.22-1ubuntu1) ...\n",
      "Setting up kmod (24-1ubuntu2) ...\n",
      "Setting up libdbus-glib-1-2:amd64 (0.108-2) ...\n",
      "Setting up python3-gi (3.24.1-2build1) ...\n",
      "Setting up module-init-tools (24-1ubuntu2) ...\n",
      "Setting up python3-software-properties (0.96.24.17) ...\n",
      "Setting up dbus (1.10.22-1ubuntu1) ...\n",
      "Setting up python-apt (1.4.0~beta3build2) ...\n",
      "Setting up python3-dbus (1.2.4-1build3) ...\n",
      "Setting up python-software-properties (0.96.24.17) ...\n",
      "Setting up software-properties-common (0.96.24.17) ...\n",
      "Processing triggers for libc-bin (2.26-0ubuntu2.1) ...\n",
      "Processing triggers for dbus (1.10.22-1ubuntu1) ...\n",
      "gpg: keybox '/tmp/tmpi66fbhuz/pubring.gpg' created\n",
      "gpg: /tmp/tmpi66fbhuz/trustdb.gpg: trustdb created\n",
      "gpg: key AD5F235DF639B041: public key \"Launchpad PPA for Alessandro Strada\" imported\n",
      "gpg: Total number processed: 1\n",
      "gpg:               imported: 1\n",
      "Warning: apt-key output should not be parsed (stdout is not a terminal)\n",
      "Selecting previously unselected package libfuse2:amd64.\n",
      "(Reading database ... 19706 files and directories currently installed.)\n",
      "Preparing to unpack .../libfuse2_2.9.7-1ubuntu1_amd64.deb ...\n",
      "Unpacking libfuse2:amd64 (2.9.7-1ubuntu1) ...\n",
      "Selecting previously unselected package fuse.\n",
      "Preparing to unpack .../fuse_2.9.7-1ubuntu1_amd64.deb ...\n",
      "Unpacking fuse (2.9.7-1ubuntu1) ...\n",
      "Selecting previously unselected package google-drive-ocamlfuse.\n",
      "Preparing to unpack .../google-drive-ocamlfuse_0.6.21-0ubuntu2_amd64.deb ...\n",
      "Unpacking google-drive-ocamlfuse (0.6.21-0ubuntu2) ...\n",
      "Setting up libfuse2:amd64 (2.9.7-1ubuntu1) ...\n",
      "Processing triggers for libc-bin (2.26-0ubuntu2.1) ...\n",
      "Setting up fuse (2.9.7-1ubuntu1) ...\n",
      "Setting up google-drive-ocamlfuse (0.6.21-0ubuntu2) ...\n"
     ]
    }
   ],
   "source": [
    "# Install a Drive FUSE wrapper.\n",
    "# https://github.com/astrada/google-drive-ocamlfuse\n",
    "!apt-get install -y -qq software-properties-common python-software-properties module-init-tools\n",
    "!add-apt-repository -y ppa:alessandro-strada/ppa 2>&1 > /dev/null\n",
    "!apt-get update -qq 2>&1 > /dev/null\n",
    "!apt-get -y install -qq google-drive-ocamlfuse fuse"
   ]
  },
  {
   "cell_type": "code",
   "execution_count": 0,
   "metadata": {
    "colab": {
     "autoexec": {
      "startup": false,
      "wait_interval": 0
     }
    },
    "colab_type": "code",
    "id": "8szmgj4RpB82"
   },
   "outputs": [],
   "source": [
    "# Generate auth tokens for Colab\n",
    "from google.colab import auth\n",
    "auth.authenticate_user()"
   ]
  },
  {
   "cell_type": "code",
   "execution_count": 9,
   "metadata": {
    "colab": {
     "autoexec": {
      "startup": false,
      "wait_interval": 0
     },
     "base_uri": "https://localhost:8080/",
     "height": 105
    },
    "colab_type": "code",
    "executionInfo": {
     "elapsed": 22249,
     "status": "ok",
     "timestamp": 1528630851536,
     "user": {
      "displayName": "Nikunj jain",
      "photoUrl": "https://lh3.googleusercontent.com/a/default-user=s128",
      "userId": "114830894282907235020"
     },
     "user_tz": -330
    },
    "id": "2Q8ZXPJ0nntK",
    "outputId": "57231b59-4eaa-4d56-f5d5-8970ffb6cff0"
   },
   "outputs": [
    {
     "name": "stdout",
     "output_type": "stream",
     "text": [
      "Please, open the following URL in a web browser: https://accounts.google.com/o/oauth2/auth?client_id=32555940559.apps.googleusercontent.com&redirect_uri=urn%3Aietf%3Awg%3Aoauth%3A2.0%3Aoob&scope=https%3A%2F%2Fwww.googleapis.com%2Fauth%2Fdrive&response_type=code&access_type=offline&approval_prompt=force\r\n",
      "··········\n",
      "Please, open the following URL in a web browser: https://accounts.google.com/o/oauth2/auth?client_id=32555940559.apps.googleusercontent.com&redirect_uri=urn%3Aietf%3Awg%3Aoauth%3A2.0%3Aoob&scope=https%3A%2F%2Fwww.googleapis.com%2Fauth%2Fdrive&response_type=code&access_type=offline&approval_prompt=force\n",
      "Please enter the verification code: Access token retrieved correctly.\n"
     ]
    }
   ],
   "source": [
    "# Generate creds for the Drive FUSE library.\n",
    "from oauth2client.client import GoogleCredentials\n",
    "creds = GoogleCredentials.get_application_default()\n",
    "import getpass\n",
    "!google-drive-ocamlfuse -headless -id={creds.client_id} -secret={creds.client_secret} < /dev/null 2>&1 | grep URL\n",
    "vcode = getpass.getpass()\n",
    "!echo {vcode} | google-drive-ocamlfuse -headless -id={creds.client_id} -secret={creds.client_secret}"
   ]
  },
  {
   "cell_type": "code",
   "execution_count": 10,
   "metadata": {
    "colab": {
     "autoexec": {
      "startup": false,
      "wait_interval": 0
     },
     "base_uri": "https://localhost:8080/",
     "height": 85
    },
    "colab_type": "code",
    "executionInfo": {
     "elapsed": 5313,
     "status": "ok",
     "timestamp": 1528630861719,
     "user": {
      "displayName": "Nikunj jain",
      "photoUrl": "https://lh3.googleusercontent.com/a/default-user=s128",
      "userId": "114830894282907235020"
     },
     "user_tz": -330
    },
    "id": "jUAmCVWCmXJX",
    "outputId": "21d95f40-83be-4bac-e0c6-f242f19fe458"
   },
   "outputs": [
    {
     "name": "stdout",
     "output_type": "stream",
     "text": [
      "Files in Drive:\n",
      "created.txt\t\t  Getting started\tUntitled1.ipynb\n",
      "data_downloader.ipynb\t  Landmark_Recognition\tUntitled.ipynb\n",
      "data_explorer-Copy.ipynb  Pandas_Workshop\n"
     ]
    }
   ],
   "source": [
    "# Create a directory and mount Google Drive using that directory.\n",
    "!mkdir -p drive\n",
    "!google-drive-ocamlfuse drive\n",
    "\n",
    "print('Files in Drive:')\n",
    "!ls drive/\n",
    "\n",
    "# Create a file in Drive.\n",
    "#!echo \"This newly created file will appear in your Drive file list.\" > drive/created.txt"
   ]
  },
  {
   "cell_type": "code",
   "execution_count": null,
   "metadata": {},
   "outputs": [],
   "source": [
    "!mkdir Landmark_recognition"
   ]
  },
  {
   "cell_type": "code",
   "execution_count": 0,
   "metadata": {
    "colab": {
     "autoexec": {
      "startup": false,
      "wait_interval": 0
     }
    },
    "colab_type": "code",
    "id": "UP5uj51Y7LQy"
   },
   "outputs": [],
   "source": [
    "!mkdir Landmark_recognition/data"
   ]
  },
  {
   "cell_type": "markdown",
   "metadata": {
    "colab_type": "text",
    "id": "qx3reWEvlLFi"
   },
   "source": [
    "# Data Download"
   ]
  },
  {
   "cell_type": "code",
   "execution_count": 0,
   "metadata": {
    "colab": {
     "autoexec": {
      "startup": false,
      "wait_interval": 0
     }
    },
    "colab_type": "code",
    "id": "L8nPVpFclRTD"
   },
   "outputs": [],
   "source": [
    "lmark_data_200 = pd.read_csv('drive/Landmark_Recognition/lmark_data_200.csv',index_col=0)"
   ]
  },
  {
   "cell_type": "code",
   "execution_count": 15,
   "metadata": {
    "colab": {
     "autoexec": {
      "startup": false,
      "wait_interval": 0
     },
     "base_uri": "https://localhost:8080/",
     "height": 204
    },
    "colab_type": "code",
    "executionInfo": {
     "elapsed": 1319,
     "status": "ok",
     "timestamp": 1528630896747,
     "user": {
      "displayName": "Nikunj jain",
      "photoUrl": "https://lh3.googleusercontent.com/a/default-user=s128",
      "userId": "114830894282907235020"
     },
     "user_tz": -330
    },
    "id": "8kJKYyxClgRI",
    "outputId": "9260614b-89f5-4624-933c-2e1254d0139f"
   },
   "outputs": [
    {
     "data": {
      "text/html": [
       "<div>\n",
       "<style scoped>\n",
       "    .dataframe tbody tr th:only-of-type {\n",
       "        vertical-align: middle;\n",
       "    }\n",
       "\n",
       "    .dataframe tbody tr th {\n",
       "        vertical-align: top;\n",
       "    }\n",
       "\n",
       "    .dataframe thead th {\n",
       "        text-align: right;\n",
       "    }\n",
       "</style>\n",
       "<table border=\"1\" class=\"dataframe\">\n",
       "  <thead>\n",
       "    <tr style=\"text-align: right;\">\n",
       "      <th></th>\n",
       "      <th>id</th>\n",
       "      <th>url</th>\n",
       "      <th>landmark_id</th>\n",
       "      <th>lmark_id</th>\n",
       "    </tr>\n",
       "  </thead>\n",
       "  <tbody>\n",
       "    <tr>\n",
       "      <th>12218</th>\n",
       "      <td>11fba25fc79e8ff3</td>\n",
       "      <td>http://lh5.ggpht.com/-C1HVMjkA0ss/RsGuVEWLjQI/...</td>\n",
       "      <td>1906</td>\n",
       "      <td>45</td>\n",
       "    </tr>\n",
       "    <tr>\n",
       "      <th>12219</th>\n",
       "      <td>188616eab93f7a00</td>\n",
       "      <td>https://lh5.googleusercontent.com/-GXTC6fUR3es...</td>\n",
       "      <td>6231</td>\n",
       "      <td>137</td>\n",
       "    </tr>\n",
       "    <tr>\n",
       "      <th>12220</th>\n",
       "      <td>e5432cac7f95d307</td>\n",
       "      <td>http://lh3.ggpht.com/-B5gVjNv7KDI/SLL4i3OxN6I/...</td>\n",
       "      <td>2658</td>\n",
       "      <td>182</td>\n",
       "    </tr>\n",
       "    <tr>\n",
       "      <th>12221</th>\n",
       "      <td>3bcbc5f73050d41a</td>\n",
       "      <td>http://lh3.ggpht.com/-y5dC41R72Rc/RdYXo44lAYI/...</td>\n",
       "      <td>7761</td>\n",
       "      <td>113</td>\n",
       "    </tr>\n",
       "    <tr>\n",
       "      <th>12222</th>\n",
       "      <td>5b066610bfd570e7</td>\n",
       "      <td>https://lh5.googleusercontent.com/-gLJQiSa6ROI...</td>\n",
       "      <td>12171</td>\n",
       "      <td>124</td>\n",
       "    </tr>\n",
       "  </tbody>\n",
       "</table>\n",
       "</div>"
      ],
      "text/plain": [
       "                     id                                                url  \\\n",
       "12218  11fba25fc79e8ff3  http://lh5.ggpht.com/-C1HVMjkA0ss/RsGuVEWLjQI/...   \n",
       "12219  188616eab93f7a00  https://lh5.googleusercontent.com/-GXTC6fUR3es...   \n",
       "12220  e5432cac7f95d307  http://lh3.ggpht.com/-B5gVjNv7KDI/SLL4i3OxN6I/...   \n",
       "12221  3bcbc5f73050d41a  http://lh3.ggpht.com/-y5dC41R72Rc/RdYXo44lAYI/...   \n",
       "12222  5b066610bfd570e7  https://lh5.googleusercontent.com/-gLJQiSa6ROI...   \n",
       "\n",
       "       landmark_id  lmark_id  \n",
       "12218         1906        45  \n",
       "12219         6231       137  \n",
       "12220         2658       182  \n",
       "12221         7761       113  \n",
       "12222        12171       124  "
      ]
     },
     "execution_count": 15,
     "metadata": {
      "tags": []
     },
     "output_type": "execute_result"
    }
   ],
   "source": [
    "lmark_data_200.tail()"
   ]
  },
  {
   "cell_type": "code",
   "execution_count": 16,
   "metadata": {
    "colab": {
     "autoexec": {
      "startup": false,
      "wait_interval": 0
     },
     "base_uri": "https://localhost:8080/",
     "height": 102
    },
    "colab_type": "code",
    "executionInfo": {
     "elapsed": 1527,
     "status": "ok",
     "timestamp": 1528630901345,
     "user": {
      "displayName": "Nikunj jain",
      "photoUrl": "https://lh3.googleusercontent.com/a/default-user=s128",
      "userId": "114830894282907235020"
     },
     "user_tz": -330
    },
    "id": "jELRxlfrljJo",
    "outputId": "a6ab84fc-1b1a-43de-a612-d32522a70199"
   },
   "outputs": [
    {
     "name": "stdout",
     "output_type": "stream",
     "text": [
      "id             12223\n",
      "url            12223\n",
      "landmark_id      200\n",
      "lmark_id         200\n",
      "dtype: int64\n"
     ]
    }
   ],
   "source": [
    "print(lmark_data_200.nunique())"
   ]
  },
  {
   "cell_type": "code",
   "execution_count": 0,
   "metadata": {
    "colab": {
     "autoexec": {
      "startup": false,
      "wait_interval": 0
     }
    },
    "colab_type": "code",
    "id": "gkJ2keyM5rO6"
   },
   "outputs": [],
   "source": [
    "# set files and dir\n",
    "DATA_FRAME, OUT_DIR = lmark_data_200, '/content/Landmark_recognition/data'  # recognition challenge\n",
    "# DATA_FRAME, OUT_DIR = pd.read_csv('../input/index.csv'), '../input/index'  # retrieval challenge\n",
    "# DATA_FRAME, OUT_DIR = pd.read_csv('../input/test.csv'), '../input/test'  # test data\n",
    "\n",
    "# preferences\n",
    "TARGET_SIZE = 128  # image resolution to be stored\n",
    "IMG_QUALITY = 90  # JPG quality\n",
    "NUM_WORKERS = 64  # Num of CPUs"
   ]
  },
  {
   "cell_type": "code",
   "execution_count": 20,
   "metadata": {
    "colab": {
     "autoexec": {
      "startup": false,
      "wait_interval": 0
     },
     "base_uri": "https://localhost:8080/",
     "height": 119
    },
    "colab_type": "code",
    "executionInfo": {
     "elapsed": 1149,
     "status": "ok",
     "timestamp": 1528630918536,
     "user": {
      "displayName": "Nikunj jain",
      "photoUrl": "https://lh3.googleusercontent.com/a/default-user=s128",
      "userId": "114830894282907235020"
     },
     "user_tz": -330
    },
    "id": "iNc-F5Mp6K9V",
    "outputId": "247cff7b-2ead-446b-88a3-02b072b915ba"
   },
   "outputs": [
    {
     "data": {
      "text/plain": [
       "s1600     10175\n",
       "rj          971\n",
       "medium      653\n",
       "s128        114\n",
       "s0-d         98\n",
       "Name: url, dtype: int64"
      ]
     },
     "execution_count": 20,
     "metadata": {
      "tags": []
     },
     "output_type": "execute_result"
    }
   ],
   "source": [
    "DATA_FRAME.url.apply(lambda x: x.split('/')[-2]).value_counts().head()"
   ]
  },
  {
   "cell_type": "code",
   "execution_count": 0,
   "metadata": {
    "colab": {
     "autoexec": {
      "startup": false,
      "wait_interval": 0
     }
    },
    "colab_type": "code",
    "id": "VeqSquzQ6POf"
   },
   "outputs": [],
   "source": [
    "failed_dwnlds=[]\n",
    "\n",
    "def overwrite_urls(df):\n",
    "    def reso_overwrite(url_tail, reso=TARGET_SIZE):\n",
    "        pattern = 's[0-9]+'\n",
    "        search_result = re.match(pattern, url_tail)\n",
    "        if search_result is None:\n",
    "            return url_tail\n",
    "        else:\n",
    "            return 's{}'.format(reso)\n",
    "\n",
    "    def join_url(parsed_url, s_reso):\n",
    "        parsed_url[-2] = s_reso\n",
    "        return '/'.join(parsed_url)\n",
    "\n",
    "    parsed_url = df.url.apply(lambda x: x.split('/'))\n",
    "    train_url_tail = parsed_url.apply(lambda x: x[-2])\n",
    "    resos = train_url_tail.apply(lambda x: reso_overwrite(x, reso=TARGET_SIZE))\n",
    "\n",
    "    overwritten_df = pd.concat([parsed_url, resos], axis=1)\n",
    "    overwritten_df.columns = ['url', 's_reso']\n",
    "    df['url'] = overwritten_df.apply(lambda x: join_url(x['url'], x['s_reso']), axis=1)\n",
    "    return df\n",
    "\n",
    "\n",
    "def parse_data(df):\n",
    "    key_url_list = [line[:2] for line in df.values]\n",
    "    return key_url_list\n",
    "\n",
    "\n",
    "def download_image(key_url):\n",
    "    (key, url) = key_url\n",
    "    filename = os.path.join(OUT_DIR, '{}.jpg'.format(key))\n",
    "\n",
    "    if os.path.exists(filename):\n",
    "        print('Image {} already exists. Skipping download.'.format(filename))\n",
    "        return 0\n",
    "\n",
    "    try:\n",
    "        response = request.urlopen(url)\n",
    "        image_data = response.read()\n",
    "    except:\n",
    "        print('Warning: Could not download image {} from {}'.format(key, url))\n",
    "        failed_dwnlds.append(key)\n",
    "        return 1\n",
    "\n",
    "    try:\n",
    "        pil_image = Image.open(BytesIO(image_data))\n",
    "    except:\n",
    "        print('Warning: Failed to parse image {}'.format(key))\n",
    "        return 1\n",
    "\n",
    "    try:\n",
    "        pil_image_rgb = pil_image.convert('RGB')\n",
    "    except:\n",
    "        print('Warning: Failed to convert image {} to RGB'.format(key))\n",
    "        return 1\n",
    "\n",
    "    try:\n",
    "        pil_image_resize = pil_image_rgb.resize((TARGET_SIZE, TARGET_SIZE))\n",
    "    except:\n",
    "        print('Warning: Failed to resize image {}'.format(key))\n",
    "        return 1\n",
    "\n",
    "    try:\n",
    "        pil_image_resize.save(filename, format='JPEG', quality=IMG_QUALITY)\n",
    "    except:\n",
    "        print('Warning: Failed to save image {}'.format(filename))\n",
    "        return 1\n",
    "\n",
    "    return 0\n",
    "\n",
    "\n",
    "def loader(df):\n",
    "    if not os.path.exists(OUT_DIR):\n",
    "        os.mkdir(OUT_DIR)\n",
    "        \n",
    "    #pool = multiprocessing.Pool(processes=NUM_WORKERS)\n",
    "    pool = ThreadPool(processes=NUM_WORKERS)\n",
    "    key_url_list = parse_data(df)\n",
    "    \n",
    "    failures = sum(tqdm(pool.imap_unordered(download_image, key_url_list),\n",
    "                             total=len(key_url_list)))\n",
    "    print('Total number of download failures:', failures)\n",
    "    pool.close()\n",
    "    pool.terminate()\n"
   ]
  },
  {
   "cell_type": "code",
   "execution_count": 22,
   "metadata": {
    "colab": {
     "autoexec": {
      "startup": false,
      "wait_interval": 0
     },
     "base_uri": "https://localhost:8080/",
     "height": 496
    },
    "colab_type": "code",
    "collapsed": true,
    "executionInfo": {
     "elapsed": 58101,
     "status": "ok",
     "timestamp": 1528631024513,
     "user": {
      "displayName": "Nikunj jain",
      "photoUrl": "https://lh3.googleusercontent.com/a/default-user=s128",
      "userId": "114830894282907235020"
     },
     "user_tz": -330
    },
    "id": "3QjRRIjY6WOP",
    "outputId": "05b7eb05-2be5-4eef-f7bd-90bb9cff7258"
   },
   "outputs": [
    {
     "name": "stderr",
     "output_type": "stream",
     "text": [
      "  3%|▎         | 315/12223 [00:01<00:50, 234.33it/s]"
     ]
    },
    {
     "name": "stdout",
     "output_type": "stream",
     "text": [
      "Warning: Could not download image 77e1a565b004a9d7 from http://lh6.ggpht.com/-HTLVr1PcsWA/S99E05wbYpI/AAAAAAAABRU/BZGzQ-urqHY/s128/\n"
     ]
    },
    {
     "name": "stderr",
     "output_type": "stream",
     "text": [
      " 12%|█▏        | 1430/12223 [00:06<00:46, 231.78it/s]"
     ]
    },
    {
     "name": "stdout",
     "output_type": "stream",
     "text": [
      "Warning: Could not download image f4dc80be3b8ad964 from https://lh3.googleusercontent.com/-RHKYz6KQB2c/TB6aZOWAcNI/AAAAAAAABPk/RhqTQ8ZiX2A/s128/\n"
     ]
    },
    {
     "name": "stderr",
     "output_type": "stream",
     "text": [
      " 14%|█▍        | 1741/12223 [00:07<00:45, 230.79it/s]"
     ]
    },
    {
     "name": "stdout",
     "output_type": "stream",
     "text": [
      "Warning: Could not download image 58cb3545e1b32d92 from https://lh5.googleusercontent.com/-IkZh3PKYF1k/Ue3TwMK_YxI/AAAAAAAAAD4/l0ziKwXrBOQ/s128/\n"
     ]
    },
    {
     "name": "stderr",
     "output_type": "stream",
     "text": [
      " 20%|██        | 2465/12223 [00:10<00:42, 232.19it/s]"
     ]
    },
    {
     "name": "stdout",
     "output_type": "stream",
     "text": [
      "Warning: Could not download image a01251563949e36e from https://lh3.googleusercontent.com/-ZHhCmoDxOKw/TMUawBWdEtI/AAAAAAAAHbY/uUInyb7wpKY/s128/\n"
     ]
    },
    {
     "name": "stderr",
     "output_type": "stream",
     "text": [
      " 21%|██▏       | 2614/12223 [00:11<00:41, 231.93it/s]"
     ]
    },
    {
     "name": "stdout",
     "output_type": "stream",
     "text": [
      "Warning: Could not download image 9f14594b7bbdbade from https://lh5.googleusercontent.com/-AO5baWgKX7Y/S3q2ll8MzkI/AAAAAAAAKyM/76AhTlyov9E/s128/\n"
     ]
    },
    {
     "name": "stderr",
     "output_type": "stream",
     "text": [
      " 22%|██▏       | 2712/12223 [00:11<00:41, 231.83it/s]"
     ]
    },
    {
     "name": "stdout",
     "output_type": "stream",
     "text": [
      "Warning: Could not download image 21953a4a47b102e2 from https://lh6.googleusercontent.com/-C4PD9vxIOEQ/Sppoq6rA5TI/AAAAAAAADyo/k-c_8m0t_Eg/s128/\n"
     ]
    },
    {
     "name": "stderr",
     "output_type": "stream",
     "text": [
      " 37%|███▋      | 4505/12223 [00:19<00:33, 227.02it/s]"
     ]
    },
    {
     "name": "stdout",
     "output_type": "stream",
     "text": [
      "Warning: Could not download image fcfc2c3986fb90c4 from http://lh4.ggpht.com/-7F1vMd0VIK4/TDrfozFqE9I/AAAAAAAAAck/nsXAZjmlxlU/s128/\n"
     ]
    },
    {
     "name": "stderr",
     "output_type": "stream",
     "text": [
      " 39%|███▉      | 4771/12223 [00:21<00:32, 226.08it/s]"
     ]
    },
    {
     "name": "stdout",
     "output_type": "stream",
     "text": [
      "Warning: Could not download image 109c8103b7550207 from http://lh3.ggpht.com/-eeZagxAUask/TB5k-hn-rTI/AAAAAAAAGKc/B6-JoR43PKI/s128/\n"
     ]
    },
    {
     "name": "stderr",
     "output_type": "stream",
     "text": [
      " 45%|████▍     | 5457/12223 [00:24<00:30, 225.07it/s]"
     ]
    },
    {
     "name": "stdout",
     "output_type": "stream",
     "text": [
      "Warning: Could not download image 5c365e5216d82e24 from https://lh6.googleusercontent.com/-DOTIxpqbxuc/SeiuXGqVzjI/AAAAAAAAAYw/2Ub14a7QDwc/s128/\n"
     ]
    },
    {
     "name": "stderr",
     "output_type": "stream",
     "text": [
      " 49%|████▉     | 6042/12223 [00:26<00:27, 224.69it/s]"
     ]
    },
    {
     "name": "stdout",
     "output_type": "stream",
     "text": [
      "Warning: Could not download image 253f62fc0b45da0c from https://lh5.googleusercontent.com/-nt0YEQmkEQA/TlICG5RTn2I/AAAAAAAAB9A/zKOSQP4I2ZA/s128/\n"
     ]
    },
    {
     "name": "stderr",
     "output_type": "stream",
     "text": [
      " 55%|█████▌    | 6747/12223 [00:30<00:24, 224.46it/s]"
     ]
    },
    {
     "name": "stdout",
     "output_type": "stream",
     "text": [
      "Warning: Could not download image d6e79c6a5a1a60b5 from http://lh5.ggpht.com/-9DM9PIk6a1c/S1ZhF-OrDgI/AAAAAAAAADQ/Phg_SSfaug4/s128/\n"
     ]
    },
    {
     "name": "stderr",
     "output_type": "stream",
     "text": [
      " 56%|█████▌    | 6818/12223 [00:30<00:24, 224.25it/s]"
     ]
    },
    {
     "name": "stdout",
     "output_type": "stream",
     "text": [
      "Warning: Could not download image ebc6dbdc9dbf9aa9 from https://lh3.googleusercontent.com/-YIs0XfSS7vs/T3x66kc8N2I/AAAAAAAAYqk/Peq34y5RZJ0/s128/\n"
     ]
    },
    {
     "name": "stderr",
     "output_type": "stream",
     "text": [
      " 61%|██████    | 7479/12223 [00:33<00:21, 224.15it/s]"
     ]
    },
    {
     "name": "stdout",
     "output_type": "stream",
     "text": [
      "Warning: Could not download image ef15eb0faf2f311c from http://lh5.ggpht.com/-x1FrvLAQ3GE/R5ewSbX0BXI/AAAAAAAACMs/CNYVFFTYQ6U/s128/\n"
     ]
    },
    {
     "name": "stderr",
     "output_type": "stream",
     "text": [
      " 66%|██████▋   | 8100/12223 [00:36<00:18, 223.13it/s]"
     ]
    },
    {
     "name": "stdout",
     "output_type": "stream",
     "text": [
      "Warning: Could not download image bbd68e510bc9a578 from https://lh6.googleusercontent.com/-Q6qJs6POnKI/SHrVxMqXlHI/AAAAAAAAAgw/8fa_XN-OFaI/s128/\n",
      "Warning: Could not download image 20c89c456a8c4208 from https://lh3.googleusercontent.com/-1dDiNAGttj0/TnWgk8BeIrI/AAAAAAAAKxQ/4e9biFFJSO4/s128/"
     ]
    },
    {
     "name": "stderr",
     "output_type": "stream",
     "text": [
      " 67%|██████▋   | 8147/12223 [00:36<00:18, 223.13it/s]"
     ]
    },
    {
     "name": "stdout",
     "output_type": "stream",
     "text": [
      "\n"
     ]
    },
    {
     "name": "stderr",
     "output_type": "stream",
     "text": [
      " 80%|███████▉  | 9728/12223 [00:43<00:11, 222.15it/s]"
     ]
    },
    {
     "name": "stdout",
     "output_type": "stream",
     "text": [
      "Warning: Could not download image 21c1ede68341cd46 from https://lh4.googleusercontent.com/-1-ACotAsygw/SiTje9QkEnI/AAAAAAAAAOE/JMeJDBbkldU/s128/\n"
     ]
    },
    {
     "name": "stderr",
     "output_type": "stream",
     "text": [
      " 81%|████████  | 9844/12223 [00:44<00:10, 221.98it/s]"
     ]
    },
    {
     "name": "stdout",
     "output_type": "stream",
     "text": [
      "Warning: Could not download image 748d3e621e6e5503 from https://lh6.googleusercontent.com/-_XZCRh1NuUE/Sf02k0gx_HI/AAAAAAAAPFc/OmyhHBVhWTM/s128/\n"
     ]
    },
    {
     "name": "stderr",
     "output_type": "stream",
     "text": [
      " 83%|████████▎ | 10113/12223 [00:45<00:09, 221.89it/s]"
     ]
    },
    {
     "name": "stdout",
     "output_type": "stream",
     "text": [
      "Warning: Could not download image 1a43540f2dbf99f8 from https://lh3.googleusercontent.com/-ZhOBQBitfLY/S3-CpW5SIKI/AAAAAAAAB8U/Vd7L9_ZpTsU/s128/\n"
     ]
    },
    {
     "name": "stderr",
     "output_type": "stream",
     "text": [
      " 87%|████████▋ | 10639/12223 [00:48<00:07, 221.62it/s]"
     ]
    },
    {
     "name": "stdout",
     "output_type": "stream",
     "text": [
      "Warning: Could not download image 5134b70cf95c20df from https://lh5.googleusercontent.com/-QNg9NuYQ8cs/URifqImIWaI/AAAAAAAAn8c/oj7eFOHNMHw/s128/\n",
      "Warning: Could not download image 45d8649129cb4375 from https://lh5.googleusercontent.com/-GQK2cKm7Lzk/Sm8aWVPgTOI/AAAAAAAAADg/0JTl55T6_Vw/s128/\n"
     ]
    },
    {
     "name": "stderr",
     "output_type": "stream",
     "text": [
      " 89%|████████▊ | 10833/12223 [00:48<00:06, 221.53it/s]"
     ]
    },
    {
     "name": "stdout",
     "output_type": "stream",
     "text": [
      "Warning: Could not download image 651a9c5619ff87d7 from http://lh4.ggpht.com/-SDYHMo_Oodc/RetenXQL9bI/AAAAAAAAAT8/dgPkeAMye-M/s128/\n"
     ]
    },
    {
     "name": "stderr",
     "output_type": "stream",
     "text": [
      " 91%|█████████ | 11129/12223 [00:50<00:04, 221.46it/s]"
     ]
    },
    {
     "name": "stdout",
     "output_type": "stream",
     "text": [
      "Warning: Could not download image 7e81fea23dd0e29d from https://lh5.googleusercontent.com/-bejCkyI0c_c/Tq5fn1BX0nI/AAAAAAAAJho/wtfgtnYn4gE/s128/\n"
     ]
    },
    {
     "name": "stderr",
     "output_type": "stream",
     "text": [
      " 93%|█████████▎| 11323/12223 [00:51<00:04, 221.38it/s]"
     ]
    },
    {
     "name": "stdout",
     "output_type": "stream",
     "text": [
      "Warning: Could not download image 51735598295e8890 from http://lh4.ggpht.com/-bRN7pNvWzrA/S7SdDDM7d4I/AAAAAAAAAJ4/Ul6oawMoVbg/s128/\n"
     ]
    },
    {
     "name": "stderr",
     "output_type": "stream",
     "text": [
      " 94%|█████████▍| 11464/12223 [00:51<00:03, 221.33it/s]"
     ]
    },
    {
     "name": "stdout",
     "output_type": "stream",
     "text": [
      "Warning: Could not download image dc86e81a10562e9d from https://lh3.googleusercontent.com/-S-qu1RP-yr0/Uv80kOt_cuI/AAAAAAAARm0/hns3-Naasl4/s128/\n"
     ]
    },
    {
     "name": "stderr",
     "output_type": "stream",
     "text": [
      " 99%|█████████▉| 12132/12223 [00:54<00:00, 220.69it/s]"
     ]
    },
    {
     "name": "stdout",
     "output_type": "stream",
     "text": [
      "Warning: Could not download image fb52394b4dcaacf6 from https://lh4.googleusercontent.com/-AxQJmyldtBE/THDQm5Ksa4I/AAAAAAAADN0/hHHDGxObCvU/s128/\n"
     ]
    },
    {
     "name": "stderr",
     "output_type": "stream",
     "text": [
      "100%|██████████| 12223/12223 [00:56<00:00, 217.27it/s]"
     ]
    },
    {
     "name": "stdout",
     "output_type": "stream",
     "text": [
      "Total number of download failures: 25\n"
     ]
    },
    {
     "name": "stderr",
     "output_type": "stream",
     "text": [
      "\n"
     ]
    }
   ],
   "source": [
    "# now, start downloading\n",
    "if __name__ == '__main__':\n",
    "    loader(overwrite_urls(DATA_FRAME))"
   ]
  },
  {
   "cell_type": "code",
   "execution_count": 146,
   "metadata": {
    "colab": {
     "autoexec": {
      "startup": false,
      "wait_interval": 0
     },
     "base_uri": "https://localhost:8080/",
     "height": 51
    },
    "colab_type": "code",
    "collapsed": true,
    "executionInfo": {
     "elapsed": 2430,
     "status": "ok",
     "timestamp": 1528651083302,
     "user": {
      "displayName": "Nikunj jain",
      "photoUrl": "https://lh3.googleusercontent.com/a/default-user=s128",
      "userId": "114830894282907235020"
     },
     "user_tz": -330
    },
    "id": "Z7LqCxRZ-H3e",
    "outputId": "03baad4c-e77d-4c7b-a382-149c53cbe799"
   },
   "outputs": [
    {
     "name": "stdout",
     "output_type": "stream",
     "text": [
      "ls: cannot access 'Landmark_recognition/data/': No such file or directory\r\n",
      "0\r\n"
     ]
    }
   ],
   "source": [
    "ls Landmark_recognition/data/|wc -l"
   ]
  },
  {
   "cell_type": "code",
   "execution_count": 0,
   "metadata": {
    "colab": {
     "autoexec": {
      "startup": false,
      "wait_interval": 0
     }
    },
    "colab_type": "code",
    "id": "rOWqEO2so6DM"
   },
   "outputs": [],
   "source": [
    "for i in failed_dwnlds:\n",
    "  lmark_data_200 = lmark_data_200.drop(lmark_data_200[lmark_data_200.id == i].index)"
   ]
  },
  {
   "cell_type": "code",
   "execution_count": 27,
   "metadata": {
    "colab": {
     "autoexec": {
      "startup": false,
      "wait_interval": 0
     },
     "base_uri": "https://localhost:8080/",
     "height": 204
    },
    "colab_type": "code",
    "executionInfo": {
     "elapsed": 1178,
     "status": "ok",
     "timestamp": 1528631177757,
     "user": {
      "displayName": "Nikunj jain",
      "photoUrl": "https://lh3.googleusercontent.com/a/default-user=s128",
      "userId": "114830894282907235020"
     },
     "user_tz": -330
    },
    "id": "LcU8ZVsxTJZe",
    "outputId": "5763879a-83fd-403b-e329-3aad16a14e16"
   },
   "outputs": [
    {
     "data": {
      "text/html": [
       "<div>\n",
       "<style scoped>\n",
       "    .dataframe tbody tr th:only-of-type {\n",
       "        vertical-align: middle;\n",
       "    }\n",
       "\n",
       "    .dataframe tbody tr th {\n",
       "        vertical-align: top;\n",
       "    }\n",
       "\n",
       "    .dataframe thead th {\n",
       "        text-align: right;\n",
       "    }\n",
       "</style>\n",
       "<table border=\"1\" class=\"dataframe\">\n",
       "  <thead>\n",
       "    <tr style=\"text-align: right;\">\n",
       "      <th></th>\n",
       "      <th>id</th>\n",
       "      <th>url</th>\n",
       "      <th>landmark_id</th>\n",
       "      <th>lmark_id</th>\n",
       "    </tr>\n",
       "  </thead>\n",
       "  <tbody>\n",
       "    <tr>\n",
       "      <th>12193</th>\n",
       "      <td>11fba25fc79e8ff3</td>\n",
       "      <td>http://lh5.ggpht.com/-C1HVMjkA0ss/RsGuVEWLjQI/...</td>\n",
       "      <td>1906</td>\n",
       "      <td>45</td>\n",
       "    </tr>\n",
       "    <tr>\n",
       "      <th>12194</th>\n",
       "      <td>188616eab93f7a00</td>\n",
       "      <td>https://lh5.googleusercontent.com/-GXTC6fUR3es...</td>\n",
       "      <td>6231</td>\n",
       "      <td>137</td>\n",
       "    </tr>\n",
       "    <tr>\n",
       "      <th>12195</th>\n",
       "      <td>e5432cac7f95d307</td>\n",
       "      <td>http://lh3.ggpht.com/-B5gVjNv7KDI/SLL4i3OxN6I/...</td>\n",
       "      <td>2658</td>\n",
       "      <td>182</td>\n",
       "    </tr>\n",
       "    <tr>\n",
       "      <th>12196</th>\n",
       "      <td>3bcbc5f73050d41a</td>\n",
       "      <td>http://lh3.ggpht.com/-y5dC41R72Rc/RdYXo44lAYI/...</td>\n",
       "      <td>7761</td>\n",
       "      <td>113</td>\n",
       "    </tr>\n",
       "    <tr>\n",
       "      <th>12197</th>\n",
       "      <td>5b066610bfd570e7</td>\n",
       "      <td>https://lh5.googleusercontent.com/-gLJQiSa6ROI...</td>\n",
       "      <td>12171</td>\n",
       "      <td>124</td>\n",
       "    </tr>\n",
       "  </tbody>\n",
       "</table>\n",
       "</div>"
      ],
      "text/plain": [
       "                     id                                                url  \\\n",
       "12193  11fba25fc79e8ff3  http://lh5.ggpht.com/-C1HVMjkA0ss/RsGuVEWLjQI/...   \n",
       "12194  188616eab93f7a00  https://lh5.googleusercontent.com/-GXTC6fUR3es...   \n",
       "12195  e5432cac7f95d307  http://lh3.ggpht.com/-B5gVjNv7KDI/SLL4i3OxN6I/...   \n",
       "12196  3bcbc5f73050d41a  http://lh3.ggpht.com/-y5dC41R72Rc/RdYXo44lAYI/...   \n",
       "12197  5b066610bfd570e7  https://lh5.googleusercontent.com/-gLJQiSa6ROI...   \n",
       "\n",
       "       landmark_id  lmark_id  \n",
       "12193         1906        45  \n",
       "12194         6231       137  \n",
       "12195         2658       182  \n",
       "12196         7761       113  \n",
       "12197        12171       124  "
      ]
     },
     "execution_count": 27,
     "metadata": {
      "tags": []
     },
     "output_type": "execute_result"
    }
   ],
   "source": [
    "lmark_data_200.tail()"
   ]
  },
  {
   "cell_type": "code",
   "execution_count": 0,
   "metadata": {
    "colab": {
     "autoexec": {
      "startup": false,
      "wait_interval": 0
     }
    },
    "colab_type": "code",
    "id": "tD3qrOFuTNjY"
   },
   "outputs": [],
   "source": [
    "lmark_data_200=lmark_data_200.reset_index(drop=True)"
   ]
  },
  {
   "cell_type": "markdown",
   "metadata": {},
   "source": [
    "# Data Preprocessing"
   ]
  },
  {
   "cell_type": "code",
   "execution_count": 0,
   "metadata": {
    "colab": {
     "autoexec": {
      "startup": false,
      "wait_interval": 0
     }
    },
    "colab_type": "code",
    "id": "N17bnm_DTZFe"
   },
   "outputs": [],
   "source": [
    "filelist =list( lmark_data_200['id']+'.jpg')"
   ]
  },
  {
   "cell_type": "code",
   "execution_count": 31,
   "metadata": {
    "colab": {
     "autoexec": {
      "startup": false,
      "wait_interval": 0
     },
     "base_uri": "https://localhost:8080/",
     "height": 34
    },
    "colab_type": "code",
    "executionInfo": {
     "elapsed": 1153,
     "status": "ok",
     "timestamp": 1528631207346,
     "user": {
      "displayName": "Nikunj jain",
      "photoUrl": "https://lh3.googleusercontent.com/a/default-user=s128",
      "userId": "114830894282907235020"
     },
     "user_tz": -330
    },
    "id": "c9WnCTXNT0je",
    "outputId": "4135a01c-d51e-44d1-ee6e-dbc6303e9ea8"
   },
   "outputs": [
    {
     "name": "stdout",
     "output_type": "stream",
     "text": [
      "/content/Landmark_recognition/data\n"
     ]
    }
   ],
   "source": [
    "cd Landmark_recognition/data"
   ]
  },
  {
   "cell_type": "code",
   "execution_count": 32,
   "metadata": {
    "colab": {
     "autoexec": {
      "startup": false,
      "wait_interval": 0
     },
     "base_uri": "https://localhost:8080/",
     "height": 1496
    },
    "colab_type": "code",
    "collapsed": true,
    "executionInfo": {
     "elapsed": 10747,
     "status": "ok",
     "timestamp": 1528631221376,
     "user": {
      "displayName": "Nikunj jain",
      "photoUrl": "https://lh3.googleusercontent.com/a/default-user=s128",
      "userId": "114830894282907235020"
     },
     "user_tz": -330
    },
    "id": "DsPziG97T5zv",
    "outputId": "be20e4ce-c3f8-4aee-c58b-a06fa360dc22"
   },
   "outputs": [
    {
     "name": "stderr",
     "output_type": "stream",
     "text": [
      "\n",
      "  0%|          | 0/12198 [00:00<?, ?it/s]\u001b[A\n",
      "  1%|          | 149/12198 [00:00<00:08, 1465.30it/s]\u001b[A\n",
      "  2%|▏         | 298/12198 [00:00<00:08, 1475.14it/s]\u001b[A\n",
      "  4%|▎         | 450/12198 [00:00<00:07, 1488.44it/s]\u001b[A\n",
      "  5%|▍         | 605/12198 [00:00<00:07, 1500.86it/s]\u001b[A\n",
      "  6%|▌         | 742/12198 [00:00<00:07, 1467.86it/s]\u001b[A\n",
      "  7%|▋         | 885/12198 [00:00<00:07, 1465.47it/s]\u001b[A\n",
      "  8%|▊         | 1031/12198 [00:00<00:07, 1464.78it/s]\u001b[A\n",
      " 10%|▉         | 1178/12198 [00:00<00:07, 1464.42it/s]\u001b[A\n",
      " 11%|█         | 1322/12198 [00:00<00:07, 1461.48it/s]\u001b[A\n",
      " 12%|█▏        | 1472/12198 [00:01<00:07, 1464.63it/s]\u001b[A\n",
      " 13%|█▎        | 1617/12198 [00:01<00:07, 1463.16it/s]\u001b[A\n",
      " 14%|█▍        | 1761/12198 [00:01<00:07, 1457.77it/s]\u001b[A\n",
      " 16%|█▌        | 1904/12198 [00:01<00:07, 1455.91it/s]\u001b[A\n",
      " 17%|█▋        | 2047/12198 [00:01<00:06, 1452.68it/s]\u001b[A\n",
      " 18%|█▊        | 2193/12198 [00:01<00:06, 1452.59it/s]\u001b[A\n",
      " 19%|█▉        | 2336/12198 [00:01<00:06, 1449.98it/s]\u001b[A\n",
      " 20%|██        | 2481/12198 [00:01<00:06, 1449.90it/s]\u001b[A\n",
      " 22%|██▏       | 2625/12198 [00:01<00:06, 1447.28it/s]\u001b[A\n",
      " 23%|██▎       | 2768/12198 [00:01<00:06, 1442.76it/s]\u001b[A\n",
      " 24%|██▍       | 2910/12198 [00:02<00:06, 1443.09it/s]\u001b[A\n",
      " 25%|██▌       | 3055/12198 [00:02<00:06, 1442.13it/s]\u001b[A\n",
      " 26%|██▌       | 3198/12198 [00:02<00:06, 1440.14it/s]\u001b[A\n",
      " 27%|██▋       | 3344/12198 [00:02<00:06, 1441.56it/s]\u001b[A\n",
      " 29%|██▊       | 3487/12198 [00:02<00:06, 1438.93it/s]\u001b[A\n",
      " 30%|██▉       | 3629/12198 [00:02<00:05, 1438.03it/s]\u001b[A\n",
      " 31%|███       | 3775/12198 [00:02<00:05, 1438.76it/s]\u001b[A\n",
      " 32%|███▏      | 3918/12198 [00:02<00:05, 1438.04it/s]\u001b[A\n",
      " 33%|███▎      | 4061/12198 [00:02<00:05, 1436.82it/s]\u001b[A\n",
      " 34%|███▍      | 4204/12198 [00:02<00:05, 1434.36it/s]\u001b[A\n",
      " 36%|███▌      | 4347/12198 [00:03<00:05, 1434.16it/s]\u001b[A\n",
      " 37%|███▋      | 4491/12198 [00:03<00:05, 1433.91it/s]\u001b[A\n",
      " 38%|███▊      | 4634/12198 [00:03<00:05, 1433.37it/s]\u001b[A\n",
      " 39%|███▉      | 4776/12198 [00:03<00:05, 1430.95it/s]\u001b[A\n",
      " 40%|████      | 4921/12198 [00:03<00:05, 1431.52it/s]\u001b[A\n",
      " 42%|████▏     | 5067/12198 [00:03<00:04, 1432.04it/s]\u001b[A\n",
      " 43%|████▎     | 5210/12198 [00:03<00:04, 1430.89it/s]\u001b[A\n",
      " 44%|████▍     | 5353/12198 [00:03<00:04, 1430.69it/s]\u001b[A\n",
      " 45%|████▌     | 5495/12198 [00:03<00:04, 1428.57it/s]\u001b[A\n",
      " 46%|████▌     | 5638/12198 [00:03<00:04, 1428.57it/s]\u001b[A\n",
      " 47%|████▋     | 5783/12198 [00:04<00:04, 1429.03it/s]\u001b[A\n",
      " 49%|████▊     | 5929/12198 [00:04<00:04, 1429.56it/s]\u001b[A\n",
      " 50%|████▉     | 6076/12198 [00:04<00:04, 1430.31it/s]\u001b[A\n",
      " 51%|█████     | 6220/12198 [00:04<00:04, 1428.41it/s]\u001b[A\n",
      " 52%|█████▏    | 6362/12198 [00:04<00:04, 1427.42it/s]\u001b[A\n",
      " 53%|█████▎    | 6510/12198 [00:04<00:03, 1428.31it/s]\u001b[A\n",
      " 55%|█████▍    | 6658/12198 [00:04<00:03, 1429.25it/s]\u001b[A\n",
      " 56%|█████▌    | 6805/12198 [00:04<00:03, 1430.08it/s]\u001b[A\n",
      " 57%|█████▋    | 6950/12198 [00:04<00:03, 1428.38it/s]\u001b[A\n",
      " 58%|█████▊    | 7095/12198 [00:04<00:03, 1428.69it/s]\u001b[A\n",
      " 59%|█████▉    | 7242/12198 [00:05<00:03, 1429.27it/s]\u001b[A\n",
      " 61%|██████    | 7387/12198 [00:05<00:03, 1429.57it/s]\u001b[A\n",
      " 62%|██████▏   | 7531/12198 [00:05<00:03, 1428.15it/s]\u001b[A\n",
      " 63%|██████▎   | 7675/12198 [00:05<00:03, 1428.23it/s]\u001b[A\n",
      " 64%|██████▍   | 7818/12198 [00:05<00:03, 1428.20it/s]\u001b[A\n",
      " 65%|██████▌   | 7965/12198 [00:05<00:02, 1428.84it/s]\u001b[A\n",
      " 66%|██████▋   | 8109/12198 [00:05<00:02, 1428.87it/s]\u001b[A\n",
      " 68%|██████▊   | 8253/12198 [00:05<00:02, 1427.97it/s]\u001b[A\n",
      " 69%|██████▉   | 8397/12198 [00:05<00:02, 1428.08it/s]\u001b[A\n",
      " 70%|███████   | 8542/12198 [00:05<00:02, 1428.30it/s]\u001b[A\n",
      " 71%|███████   | 8687/12198 [00:06<00:02, 1428.55it/s]\u001b[A\n",
      " 72%|███████▏  | 8831/12198 [00:06<00:02, 1427.29it/s]\u001b[A\n",
      " 74%|███████▎  | 8973/12198 [00:06<00:02, 1427.12it/s]\u001b[A\n",
      " 75%|███████▍  | 9118/12198 [00:06<00:02, 1427.38it/s]\u001b[A\n",
      " 76%|███████▌  | 9262/12198 [00:06<00:02, 1427.64it/s]\u001b[A\n",
      " 77%|███████▋  | 9409/12198 [00:06<00:01, 1428.07it/s]\u001b[A\n",
      " 78%|███████▊  | 9553/12198 [00:06<00:01, 1427.12it/s]\u001b[A\n",
      " 79%|███████▉  | 9695/12198 [00:06<00:01, 1426.76it/s]\u001b[A\n",
      " 81%|████████  | 9841/12198 [00:06<00:01, 1427.08it/s]\u001b[A\n",
      " 82%|████████▏ | 9984/12198 [00:06<00:01, 1426.94it/s]\u001b[A\n",
      " 83%|████████▎ | 10127/12198 [00:07<00:01, 1426.42it/s]\u001b[A\n",
      " 84%|████████▍ | 10273/12198 [00:07<00:01, 1426.90it/s]\u001b[A\n",
      " 85%|████████▌ | 10420/12198 [00:07<00:01, 1427.42it/s]\u001b[A\n",
      " 87%|████████▋ | 10566/12198 [00:07<00:01, 1427.82it/s]\u001b[A\n",
      " 88%|████████▊ | 10714/12198 [00:07<00:01, 1428.39it/s]\u001b[A\n",
      " 89%|████████▉ | 10860/12198 [00:07<00:00, 1427.34it/s]\u001b[A\n",
      " 90%|█████████ | 11003/12198 [00:07<00:00, 1427.11it/s]\u001b[A\n",
      " 91%|█████████▏| 11145/12198 [00:07<00:00, 1426.90it/s]\u001b[A\n",
      " 93%|█████████▎| 11290/12198 [00:07<00:00, 1427.05it/s]\u001b[A\n",
      " 94%|█████████▎| 11433/12198 [00:08<00:00, 1426.85it/s]\u001b[A\n",
      " 95%|█████████▍| 11575/12198 [00:08<00:00, 1425.97it/s]\u001b[A\n",
      " 96%|█████████▌| 11721/12198 [00:08<00:00, 1426.32it/s]\u001b[A\n",
      " 97%|█████████▋| 11868/12198 [00:08<00:00, 1426.70it/s]\u001b[A\n",
      " 98%|█████████▊| 12015/12198 [00:08<00:00, 1427.17it/s]\u001b[A\n",
      "100%|█████████▉| 12160/12198 [00:08<00:00, 1427.37it/s]\u001b[A\n",
      "100%|██████████| 12198/12198 [00:08<00:00, 1424.76it/s]\u001b[A"
     ]
    }
   ],
   "source": [
    "images = np.array([np.array(Image.open(fname)) for fname in tqdm(filelist)])"
   ]
  },
  {
   "cell_type": "code",
   "execution_count": 0,
   "metadata": {
    "colab": {
     "autoexec": {
      "startup": false,
      "wait_interval": 0
     }
    },
    "colab_type": "code",
    "id": "xEdSU1FaUCnI"
   },
   "outputs": [],
   "source": [
    "images = images.astype('float32')/255"
   ]
  },
  {
   "cell_type": "code",
   "execution_count": 34,
   "metadata": {
    "colab": {
     "autoexec": {
      "startup": false,
      "wait_interval": 0
     },
     "base_uri": "https://localhost:8080/",
     "height": 34
    },
    "colab_type": "code",
    "executionInfo": {
     "elapsed": 1166,
     "status": "ok",
     "timestamp": 1528631229367,
     "user": {
      "displayName": "Nikunj jain",
      "photoUrl": "https://lh3.googleusercontent.com/a/default-user=s128",
      "userId": "114830894282907235020"
     },
     "user_tz": -330
    },
    "id": "VzlP8FByUMkD",
    "outputId": "6d973bc3-892e-4a16-8243-6ff96aa1ad0f"
   },
   "outputs": [
    {
     "data": {
      "text/plain": [
       "(12198, 128, 128, 3)"
      ]
     },
     "execution_count": 34,
     "metadata": {
      "tags": []
     },
     "output_type": "execute_result"
    }
   ],
   "source": [
    "images.shape"
   ]
  },
  {
   "cell_type": "code",
   "execution_count": 0,
   "metadata": {
    "colab": {
     "autoexec": {
      "startup": false,
      "wait_interval": 0
     }
    },
    "colab_type": "code",
    "id": "OoJzDdilUOdu"
   },
   "outputs": [],
   "source": [
    "landmarks = lmark_data_200['lmark_id'].as_matrix()"
   ]
  },
  {
   "cell_type": "code",
   "execution_count": 36,
   "metadata": {
    "colab": {
     "autoexec": {
      "startup": false,
      "wait_interval": 0
     },
     "base_uri": "https://localhost:8080/",
     "height": 34
    },
    "colab_type": "code",
    "executionInfo": {
     "elapsed": 1196,
     "status": "ok",
     "timestamp": 1528631239827,
     "user": {
      "displayName": "Nikunj jain",
      "photoUrl": "https://lh3.googleusercontent.com/a/default-user=s128",
      "userId": "114830894282907235020"
     },
     "user_tz": -330
    },
    "id": "lOrFeI7lh5O7",
    "outputId": "81693669-3ac5-444c-f289-8d25ed361b76"
   },
   "outputs": [
    {
     "data": {
      "text/plain": [
       "(12198,)"
      ]
     },
     "execution_count": 36,
     "metadata": {
      "tags": []
     },
     "output_type": "execute_result"
    }
   ],
   "source": [
    "landmarks.shape"
   ]
  },
  {
   "cell_type": "code",
   "execution_count": 0,
   "metadata": {
    "colab": {
     "autoexec": {
      "startup": false,
      "wait_interval": 0
     }
    },
    "colab_type": "code",
    "id": "ojbDZ-9zUYlM"
   },
   "outputs": [],
   "source": [
    "landmark_class = to_categorical(landmarks,200)"
   ]
  },
  {
   "cell_type": "code",
   "execution_count": 38,
   "metadata": {
    "colab": {
     "autoexec": {
      "startup": false,
      "wait_interval": 0
     },
     "base_uri": "https://localhost:8080/",
     "height": 34
    },
    "colab_type": "code",
    "executionInfo": {
     "elapsed": 1117,
     "status": "ok",
     "timestamp": 1528631243859,
     "user": {
      "displayName": "Nikunj jain",
      "photoUrl": "https://lh3.googleusercontent.com/a/default-user=s128",
      "userId": "114830894282907235020"
     },
     "user_tz": -330
    },
    "id": "u07lJ_6SUi5U",
    "outputId": "53d9a929-b985-4d3c-908d-bb12925589fb"
   },
   "outputs": [
    {
     "data": {
      "text/plain": [
       "(12198, 200)"
      ]
     },
     "execution_count": 38,
     "metadata": {
      "tags": []
     },
     "output_type": "execute_result"
    }
   ],
   "source": [
    "landmark_class.shape"
   ]
  },
  {
   "cell_type": "markdown",
   "metadata": {},
   "source": [
    "# Simple Convolutional Network"
   ]
  },
  {
   "cell_type": "code",
   "execution_count": 39,
   "metadata": {
    "colab": {
     "autoexec": {
      "startup": false,
      "wait_interval": 0
     },
     "base_uri": "https://localhost:8080/",
     "height": 85
    },
    "colab_type": "code",
    "executionInfo": {
     "elapsed": 2880,
     "status": "ok",
     "timestamp": 1528631247671,
     "user": {
      "displayName": "Nikunj jain",
      "photoUrl": "https://lh3.googleusercontent.com/a/default-user=s128",
      "userId": "114830894282907235020"
     },
     "user_tz": -330
    },
    "id": "0SO18NfvUtLd",
    "outputId": "86017f8d-7c03-401a-b8a7-3df3497c8422"
   },
   "outputs": [
    {
     "name": "stdout",
     "output_type": "stream",
     "text": [
      "Training data shape: (11588, 128, 128, 3)\n",
      "Training target's shape (11588, 200)\n",
      "Testing data shape: (610, 128, 128, 3)\n",
      "Testing target's shape (610, 200)\n"
     ]
    }
   ],
   "source": [
    "x_train, x_test, y_train, y_test = train_test_split(images, landmark_class, \n",
    "                                                        test_size = 0.05, \n",
    "                                                        random_state = 1)\n",
    "# Print the shape\n",
    "print (\"Training data shape:\", x_train.shape)\n",
    "print (\"Training target's shape\", y_train.shape)\n",
    "print (\"Testing data shape:\", x_test.shape)\n",
    "print (\"Testing target's shape\", y_test.shape)"
   ]
  },
  {
   "cell_type": "code",
   "execution_count": 0,
   "metadata": {
    "colab": {
     "autoexec": {
      "startup": false,
      "wait_interval": 0
     }
    },
    "colab_type": "code",
    "id": "XQMLjbEgU3bT"
   },
   "outputs": [],
   "source": [
    "#Objective:Implements & Compiles the AlexNet architecture on given parameters\n",
    "#inputs:Shape of input image & No. of classes and Optimzer & loss function to be used\n",
    "#Outputs:Returns the implemented CNN model\n",
    "#invoked by:N/A\n",
    "#invokes:N/A\n",
    "#approach:Uses Keras library functions to implement CNN model\n",
    "\n",
    "def Simple_CNN_model():\n",
    "    classifier = Sequential()\n",
    "    #convolutional layer\n",
    "    classifier.add(Conv2D(32, (5, 5), strides=2,input_shape = (64, 64, 3), activation = 'relu'))\n",
    "    classifier.add(MaxPooling2D(pool_size = (2, 2),strides=2))\n",
    "    Dropout(0.25)\n",
    "   \n",
    "    classifier.add(Conv2D(64, (5, 5),padding='same',activation = 'relu'))\n",
    "    classifier.add(MaxPooling2D(pool_size = (2, 2),strides=2))\n",
    "    Dropout(0.25)\n",
    " \n",
    "    #Flattening\n",
    "    classifier.add(Flatten())\n",
    "    #Full connection\n",
    "    classifier.add(Dense(units = 800, activation = 'tanh'))\n",
    "    Dropout(0.25)\n",
    "    classifier.add(Dense(units = 500, activation = 'tanh'))\n",
    "    classifier.add(Dense(units = 200, activation = 'softmax'))\n",
    "    # Compiling the CNN\n",
    "    classifier.compile(optimizer = 'rmsprop', loss = 'categorical_crossentropy', metrics = ['accuracy'])\n",
    "    \n",
    "    return classifier"
   ]
  },
  {
   "cell_type": "code",
   "execution_count": 0,
   "metadata": {
    "colab": {
     "autoexec": {
      "startup": false,
      "wait_interval": 0
     }
    },
    "colab_type": "code",
    "id": "m0rdDreZ5--h"
   },
   "outputs": [],
   "source": [
    "def Simple_CNN_model2():\n",
    "  model = Sequential()\n",
    "  model.add(Conv2D(32, (3, 3), padding='same',input_shape=(128, 128, 3)))\n",
    "  model.add(Activation('relu'))\n",
    "  model.add(Conv2D(32, (3, 3)))\n",
    "  model.add(Activation('relu'))\n",
    "  model.add(MaxPooling2D(pool_size=(2, 2)))\n",
    "  model.add(Dropout(0.25))\n",
    "\n",
    "  model.add(Conv2D(64, (3, 3), padding='same'))\n",
    "  model.add(Activation('relu'))\n",
    "  model.add(Conv2D(64, (3, 3)))\n",
    "  model.add(Activation('relu'))\n",
    "  model.add(MaxPooling2D(pool_size=(2, 2)))\n",
    "  model.add(Dropout(0.25))\n",
    "\n",
    "  model.add(Flatten())\n",
    "  model.add(Dense(1024))\n",
    "  model.add(Activation('tanh'))\n",
    "  model.add(Dropout(0.5))\n",
    "  model.add(Dense(1024))\n",
    "  model.add(Activation('tanh'))\n",
    "  model.add(Dropout(0.5))\n",
    "  model.add(Dense(1024))\n",
    "  model.add(Activation('tanh'))\n",
    "  model.add(Dropout(0.5))\n",
    "  model.add(Dense(200))\n",
    "  model.add(Activation('softmax'))\n",
    "  \n",
    "  model.compile(optimizer = 'sgd', loss = 'categorical_crossentropy', metrics = ['accuracy'])\n",
    "  \n",
    "  return model"
   ]
  },
  {
   "cell_type": "code",
   "execution_count": 0,
   "metadata": {
    "colab": {
     "autoexec": {
      "startup": false,
      "wait_interval": 0
     }
    },
    "colab_type": "code",
    "id": "HejBSmTLU94N"
   },
   "outputs": [],
   "source": [
    "model=Simple_CNN_model2()"
   ]
  },
  {
   "cell_type": "code",
   "execution_count": 109,
   "metadata": {
    "colab": {
     "autoexec": {
      "startup": false,
      "wait_interval": 0
     },
     "base_uri": "https://localhost:8080/",
     "height": 1074
    },
    "colab_type": "code",
    "executionInfo": {
     "elapsed": 112301,
     "status": "ok",
     "timestamp": 1521794436887,
     "user": {
      "displayName": "Nikunj jain",
      "photoUrl": "https://lh3.googleusercontent.com/a/default-user=s128",
      "userId": "114830894282907235020"
     },
     "user_tz": -330
    },
    "id": "K9JHxzjtVwUX",
    "outputId": "494147d8-4b99-449c-a7c7-6ecb13f030fd",
    "scrolled": true
   },
   "outputs": [
    {
     "name": "stdout",
     "output_type": "stream",
     "text": [
      "Epoch 1/30\n",
      "5819/5819 [==============================] - 4s 730us/step - loss: 71.5561 - acc: 0.0588\n",
      "Epoch 2/30\n",
      "5819/5819 [==============================] - 4s 649us/step - loss: 36.5852 - acc: 0.0902\n",
      "Epoch 3/30\n",
      "5819/5819 [==============================] - 4s 643us/step - loss: 19.6162 - acc: 0.1401\n",
      "Epoch 4/30\n",
      "5819/5819 [==============================] - 4s 639us/step - loss: 11.3572 - acc: 0.1698\n",
      "Epoch 5/30\n",
      "5520/5819 [===========================>..] - ETA: 0s - loss: 7.4426 - acc: 0.18415819/5819 [==============================] - 4s 645us/step - loss: 7.3864 - acc: 0.1832\n",
      "Epoch 6/30\n",
      "5819/5819 [==============================] - 4s 636us/step - loss: 5.4438 - acc: 0.1949\n",
      "Epoch 7/30\n",
      "5819/5819 [==============================] - 4s 620us/step - loss: 4.4785 - acc: 0.2091\n",
      "Epoch 8/30\n",
      "5819/5819 [==============================] - 4s 628us/step - loss: 3.9811 - acc: 0.2188\n",
      "Epoch 9/30\n",
      "5819/5819 [==============================] - 4s 622us/step - loss: 3.7187 - acc: 0.2311\n",
      "Epoch 10/30\n",
      "1600/5819 [=======>......................] - ETA: 2s - loss: 3.5829 - acc: 0.23815819/5819 [==============================] - 4s 629us/step - loss: 3.5764 - acc: 0.2437\n",
      "Epoch 11/30\n",
      "5819/5819 [==============================] - 4s 636us/step - loss: 3.4794 - acc: 0.2540\n",
      "Epoch 12/30\n",
      "5819/5819 [==============================] - 4s 641us/step - loss: 3.4264 - acc: 0.2689\n",
      "Epoch 13/30\n",
      "5819/5819 [==============================] - 4s 635us/step - loss: 3.3717 - acc: 0.2703\n",
      "Epoch 14/30\n",
      "5819/5819 [==============================] - 4s 639us/step - loss: 3.3310 - acc: 0.2775\n",
      "Epoch 15/30\n",
      " 720/5819 [==>...........................] - ETA: 3s - loss: 3.2410 - acc: 0.29315819/5819 [==============================] - 4s 636us/step - loss: 3.2963 - acc: 0.2920\n",
      "Epoch 16/30\n",
      "5819/5819 [==============================] - 4s 638us/step - loss: 3.2755 - acc: 0.2927\n",
      "Epoch 17/30\n",
      "5819/5819 [==============================] - 4s 640us/step - loss: 3.2453 - acc: 0.3050\n",
      "Epoch 18/30\n",
      "5819/5819 [==============================] - 4s 632us/step - loss: 3.2084 - acc: 0.3196\n",
      "Epoch 19/30\n",
      "5819/5819 [==============================] - 4s 628us/step - loss: 3.1905 - acc: 0.3274\n",
      "Epoch 20/30\n",
      " 608/5819 [==>...........................] - ETA: 3s - loss: 3.0688 - acc: 0.36685819/5819 [==============================] - 4s 636us/step - loss: 3.1743 - acc: 0.3324\n",
      "Epoch 21/30\n",
      "5819/5819 [==============================] - 4s 630us/step - loss: 3.1361 - acc: 0.3507\n",
      "Epoch 22/30\n",
      "5819/5819 [==============================] - 4s 635us/step - loss: 3.1184 - acc: 0.3477\n",
      "Epoch 23/30\n",
      "5819/5819 [==============================] - 4s 635us/step - loss: 3.0966 - acc: 0.3643\n",
      "Epoch 24/30\n",
      "5819/5819 [==============================] - 4s 638us/step - loss: 3.0763 - acc: 0.3640\n",
      "Epoch 25/30\n",
      " 624/5819 [==>...........................] - ETA: 3s - loss: 2.9396 - acc: 0.38465819/5819 [==============================] - 4s 637us/step - loss: 3.0544 - acc: 0.3777\n",
      "Epoch 26/30\n",
      "5819/5819 [==============================] - 4s 635us/step - loss: 3.0396 - acc: 0.3798\n",
      "Epoch 27/30\n",
      "5819/5819 [==============================] - 4s 632us/step - loss: 3.0194 - acc: 0.3973\n",
      "Epoch 28/30\n",
      "5819/5819 [==============================] - 4s 639us/step - loss: 2.9871 - acc: 0.4052\n",
      "Epoch 29/30\n",
      "5819/5819 [==============================] - 4s 623us/step - loss: 2.9789 - acc: 0.4059\n",
      "Epoch 30/30\n",
      " 704/5819 [==>...........................] - ETA: 3s - loss: 2.8532 - acc: 0.42765819/5819 [==============================] - 4s 634us/step - loss: 2.9590 - acc: 0.4166\n"
     ]
    },
    {
     "data": {
      "text/plain": [
       "<keras.callbacks.History at 0x7facad862940>"
      ]
     },
     "execution_count": 109,
     "metadata": {
      "tags": []
     },
     "output_type": "execute_result"
    }
   ],
   "source": [
    "model.fit(x_train, y_train,epochs=30, batch_size=16, verbose=1)"
   ]
  },
  {
   "cell_type": "markdown",
   "metadata": {},
   "source": [
    "# Data Augmentation"
   ]
  },
  {
   "cell_type": "code",
   "execution_count": 40,
   "metadata": {
    "colab": {
     "autoexec": {
      "startup": false,
      "wait_interval": 0
     },
     "base_uri": "https://localhost:8080/",
     "height": 34
    },
    "colab_type": "code",
    "executionInfo": {
     "elapsed": 3583,
     "status": "ok",
     "timestamp": 1528631259979,
     "user": {
      "displayName": "Nikunj jain",
      "photoUrl": "https://lh3.googleusercontent.com/a/default-user=s128",
      "userId": "114830894282907235020"
     },
     "user_tz": -330
    },
    "id": "xac6mK8C3Fsc",
    "outputId": "ab8dbf5e-5a57-4321-ede1-a122454c4533"
   },
   "outputs": [
    {
     "name": "stdout",
     "output_type": "stream",
     "text": [
      "<class 'NoneType'>\n"
     ]
    }
   ],
   "source": [
    "  datagen = ImageDataGenerator(\n",
    "        featurewise_center=False,  # set input mean to 0 over the dataset\n",
    "        samplewise_center=False,  # set each sample mean to 0\n",
    "        featurewise_std_normalization=False,  # divide inputs by std of the dataset\n",
    "        samplewise_std_normalization=False,  # divide each input by its std\n",
    "        zca_whitening=False,  # apply ZCA whitening\n",
    "        rotation_range=0,  # randomly rotate images in the range (degrees, 0 to 180)\n",
    "        width_shift_range=0.1,  # randomly shift images horizontally (fraction of total width)\n",
    "        height_shift_range=0.1,  # randomly shift images vertically (fraction of total height)\n",
    "        horizontal_flip=True,  # randomly flip images\n",
    "        vertical_flip=False)  # randomly flip images\n",
    "\n",
    "    # Compute quantities required for feature-wise normalization\n",
    "    # (std, mean, and principal components if ZCA whitening is applied).\n",
    "  datagen.fit(x_train)\n",
    "  print(type(datagen.fit(x_train)))"
   ]
  },
  {
   "cell_type": "code",
   "execution_count": 73,
   "metadata": {
    "colab": {
     "autoexec": {
      "startup": false,
      "wait_interval": 0
     },
     "base_uri": "https://localhost:8080/",
     "height": 2774
    },
    "colab_type": "code",
    "executionInfo": {
     "elapsed": 2222018,
     "status": "ok",
     "timestamp": 1523961109096,
     "user": {
      "displayName": "Nikunj jain",
      "photoUrl": "https://lh3.googleusercontent.com/a/default-user=s128",
      "userId": "114830894282907235020"
     },
     "user_tz": -330
    },
    "id": "D9_sCSEQD7nQ",
    "outputId": "f69ebcac-1d34-4f8b-cd12-592a8ec9d8a0"
   },
   "outputs": [
    {
     "name": "stdout",
     "output_type": "stream",
     "text": [
      "Epoch 1/80\n",
      "182/182 [==============================] - 28s 153ms/step - loss: 1.3746 - acc: 0.6240\n",
      "Epoch 2/80\n",
      "182/182 [==============================] - 28s 152ms/step - loss: 1.3596 - acc: 0.6300\n",
      "Epoch 3/80\n",
      "170/182 [===========================>..] - ETA: 1s - loss: 1.3468 - acc: 0.6292182/182 [==============================] - 28s 152ms/step - loss: 1.3538 - acc: 0.6277\n",
      "Epoch 4/80\n",
      "182/182 [==============================] - 28s 153ms/step - loss: 1.3154 - acc: 0.6436\n",
      "Epoch 5/80\n",
      "182/182 [==============================] - 27s 151ms/step - loss: 1.2895 - acc: 0.6447\n",
      "Epoch 6/80\n",
      " 42/182 [=====>........................] - ETA: 22s - loss: 1.2569 - acc: 0.6577182/182 [==============================] - 28s 152ms/step - loss: 1.2939 - acc: 0.6454\n",
      "Epoch 7/80\n",
      "182/182 [==============================] - 28s 153ms/step - loss: 1.2415 - acc: 0.6557\n",
      "Epoch 8/80\n",
      "182/182 [==============================] - 28s 152ms/step - loss: 1.2674 - acc: 0.6577\n",
      "Epoch 9/80\n",
      " 15/182 [=>............................] - ETA: 29s - loss: 1.2643 - acc: 0.6396182/182 [==============================] - 28s 152ms/step - loss: 1.2421 - acc: 0.6513\n",
      "Epoch 10/80\n",
      "182/182 [==============================] - 28s 153ms/step - loss: 1.2516 - acc: 0.6490\n",
      "Epoch 11/80\n",
      "182/182 [==============================] - 28s 153ms/step - loss: 1.2051 - acc: 0.6673\n",
      "Epoch 12/80\n",
      "  7/182 [>.............................] - ETA: 37s - loss: 1.0634 - acc: 0.6652182/182 [==============================] - 28s 153ms/step - loss: 1.1752 - acc: 0.6684\n",
      "Epoch 13/80\n",
      "182/182 [==============================] - 28s 152ms/step - loss: 1.1408 - acc: 0.6824\n",
      "Epoch 14/80\n",
      "182/182 [==============================] - 28s 153ms/step - loss: 1.1582 - acc: 0.6735\n",
      "Epoch 15/80\n",
      "  6/182 [..............................] - ETA: 37s - loss: 1.0281 - acc: 0.7344182/182 [==============================] - 28s 152ms/step - loss: 1.1602 - acc: 0.6736\n",
      "Epoch 16/80\n",
      "182/182 [==============================] - 28s 152ms/step - loss: 1.1133 - acc: 0.6877\n",
      "Epoch 17/80\n",
      "182/182 [==============================] - 28s 151ms/step - loss: 1.1327 - acc: 0.6807\n",
      "Epoch 18/80\n",
      "  5/182 [..............................] - ETA: 39s - loss: 1.0835 - acc: 0.7125182/182 [==============================] - 28s 152ms/step - loss: 1.1012 - acc: 0.6889\n",
      "Epoch 19/80\n",
      "182/182 [==============================] - 28s 152ms/step - loss: 1.0997 - acc: 0.6926\n",
      "Epoch 20/80\n",
      "182/182 [==============================] - 28s 152ms/step - loss: 1.1087 - acc: 0.6888\n",
      "Epoch 21/80\n",
      "  5/182 [..............................] - ETA: 39s - loss: 0.9505 - acc: 0.7250182/182 [==============================] - 28s 152ms/step - loss: 1.0480 - acc: 0.6969\n",
      "Epoch 22/80\n",
      "182/182 [==============================] - 28s 152ms/step - loss: 1.0588 - acc: 0.6971\n",
      "Epoch 23/80\n",
      "182/182 [==============================] - 28s 152ms/step - loss: 1.0063 - acc: 0.7134\n",
      "Epoch 24/80\n",
      "  5/182 [..............................] - ETA: 41s - loss: 1.0587 - acc: 0.6875182/182 [==============================] - 28s 153ms/step - loss: 1.0197 - acc: 0.7140\n",
      "Epoch 25/80\n",
      "182/182 [==============================] - 28s 152ms/step - loss: 0.9735 - acc: 0.7236\n",
      "Epoch 26/80\n",
      "182/182 [==============================] - 28s 152ms/step - loss: 1.0032 - acc: 0.7087\n",
      "Epoch 27/80\n",
      "  5/182 [..............................] - ETA: 41s - loss: 0.8280 - acc: 0.7312182/182 [==============================] - 28s 153ms/step - loss: 0.9773 - acc: 0.7223\n",
      "Epoch 28/80\n",
      "182/182 [==============================] - 28s 154ms/step - loss: 0.9511 - acc: 0.7294\n",
      "Epoch 29/80\n",
      "182/182 [==============================] - 28s 153ms/step - loss: 0.9564 - acc: 0.7268\n",
      "Epoch 30/80\n",
      "  5/182 [..............................] - ETA: 41s - loss: 0.7392 - acc: 0.7625182/182 [==============================] - 28s 153ms/step - loss: 0.9458 - acc: 0.7256\n",
      "Epoch 31/80\n",
      "182/182 [==============================] - 28s 152ms/step - loss: 0.9358 - acc: 0.7269\n",
      "Epoch 32/80\n",
      "182/182 [==============================] - 28s 153ms/step - loss: 0.9246 - acc: 0.7344\n",
      "Epoch 33/80\n",
      "  5/182 [..............................] - ETA: 41s - loss: 0.9110 - acc: 0.7312182/182 [==============================] - 28s 152ms/step - loss: 0.9178 - acc: 0.7412\n",
      "Epoch 34/80\n",
      "182/182 [==============================] - 28s 152ms/step - loss: 0.9086 - acc: 0.7405\n",
      "Epoch 35/80\n",
      "182/182 [==============================] - 28s 152ms/step - loss: 0.9280 - acc: 0.7366\n",
      "Epoch 36/80\n",
      "  5/182 [..............................] - ETA: 39s - loss: 0.8264 - acc: 0.8000182/182 [==============================] - 28s 152ms/step - loss: 0.9041 - acc: 0.7389\n",
      "Epoch 37/80\n",
      "182/182 [==============================] - 28s 152ms/step - loss: 0.8817 - acc: 0.7402\n",
      "Epoch 38/80\n",
      "182/182 [==============================] - 28s 152ms/step - loss: 0.8804 - acc: 0.7388\n",
      "Epoch 39/80\n",
      "  5/182 [..............................] - ETA: 40s - loss: 0.6454 - acc: 0.8063182/182 [==============================] - 28s 152ms/step - loss: 0.8571 - acc: 0.7495\n",
      "Epoch 40/80\n",
      "182/182 [==============================] - 28s 153ms/step - loss: 0.8505 - acc: 0.7580\n",
      "Epoch 41/80\n",
      "182/182 [==============================] - 28s 153ms/step - loss: 0.8486 - acc: 0.7515\n",
      "Epoch 42/80\n",
      "  5/182 [..............................] - ETA: 38s - loss: 0.7447 - acc: 0.7562182/182 [==============================] - 28s 152ms/step - loss: 0.8323 - acc: 0.7547\n",
      "Epoch 43/80\n",
      "182/182 [==============================] - 28s 153ms/step - loss: 0.8103 - acc: 0.7663\n",
      "Epoch 44/80\n",
      "182/182 [==============================] - 28s 152ms/step - loss: 0.8312 - acc: 0.7633\n",
      "Epoch 45/80\n",
      "  5/182 [..............................] - ETA: 40s - loss: 0.7361 - acc: 0.7438182/182 [==============================] - 28s 153ms/step - loss: 0.8157 - acc: 0.7605\n",
      "Epoch 46/80\n",
      "182/182 [==============================] - 28s 153ms/step - loss: 0.7756 - acc: 0.7711\n",
      "Epoch 47/80\n",
      "182/182 [==============================] - 28s 153ms/step - loss: 0.7864 - acc: 0.7690\n",
      "Epoch 48/80\n",
      "  5/182 [..............................] - ETA: 38s - loss: 0.5194 - acc: 0.8500182/182 [==============================] - 28s 152ms/step - loss: 0.7631 - acc: 0.7740\n",
      "Epoch 49/80\n",
      "182/182 [==============================] - 28s 153ms/step - loss: 0.7634 - acc: 0.7737\n",
      "Epoch 50/80\n",
      "182/182 [==============================] - 28s 152ms/step - loss: 0.7384 - acc: 0.7858\n",
      "Epoch 51/80\n",
      "  5/182 [..............................] - ETA: 40s - loss: 0.7398 - acc: 0.7875182/182 [==============================] - 28s 152ms/step - loss: 0.7695 - acc: 0.7711\n",
      "Epoch 52/80\n",
      "182/182 [==============================] - 28s 153ms/step - loss: 0.7337 - acc: 0.7823\n",
      "Epoch 53/80\n",
      "182/182 [==============================] - 28s 153ms/step - loss: 0.7359 - acc: 0.7814\n",
      "Epoch 54/80\n",
      "  5/182 [..............................] - ETA: 39s - loss: 0.5908 - acc: 0.8063182/182 [==============================] - 28s 153ms/step - loss: 0.7488 - acc: 0.7810\n",
      "Epoch 55/80\n",
      "182/182 [==============================] - 28s 153ms/step - loss: 0.7325 - acc: 0.7822\n",
      "Epoch 56/80\n",
      "182/182 [==============================] - 28s 154ms/step - loss: 0.7198 - acc: 0.7832\n",
      "Epoch 57/80\n",
      "  5/182 [..............................] - ETA: 42s - loss: 0.8166 - acc: 0.7625182/182 [==============================] - 28s 153ms/step - loss: 0.7059 - acc: 0.7913\n",
      "Epoch 58/80\n",
      "182/182 [==============================] - 28s 153ms/step - loss: 0.6968 - acc: 0.7944\n",
      "Epoch 59/80\n",
      "182/182 [==============================] - 28s 153ms/step - loss: 0.6864 - acc: 0.7966\n",
      "Epoch 60/80\n",
      "  5/182 [..............................] - ETA: 39s - loss: 0.6629 - acc: 0.8063182/182 [==============================] - 28s 153ms/step - loss: 0.6760 - acc: 0.7983\n",
      "Epoch 61/80\n",
      "182/182 [==============================] - 28s 153ms/step - loss: 0.6818 - acc: 0.7982\n",
      "Epoch 62/80\n",
      "182/182 [==============================] - 28s 153ms/step - loss: 0.6715 - acc: 0.8040\n",
      "Epoch 63/80\n",
      "  5/182 [..............................] - ETA: 40s - loss: 0.6234 - acc: 0.8187182/182 [==============================] - 28s 153ms/step - loss: 0.6667 - acc: 0.7969\n",
      "Epoch 64/80\n",
      "182/182 [==============================] - 28s 153ms/step - loss: 0.6393 - acc: 0.8112\n",
      "Epoch 65/80\n",
      "182/182 [==============================] - 28s 153ms/step - loss: 0.6642 - acc: 0.7997\n",
      "Epoch 66/80\n",
      "  5/182 [..............................] - ETA: 41s - loss: 0.4540 - acc: 0.8875182/182 [==============================] - 28s 153ms/step - loss: 0.6373 - acc: 0.8043\n",
      "Epoch 67/80\n",
      "182/182 [==============================] - 28s 153ms/step - loss: 0.6150 - acc: 0.8173\n",
      "Epoch 68/80\n",
      "182/182 [==============================] - 28s 152ms/step - loss: 0.6073 - acc: 0.8179\n",
      "Epoch 69/80\n",
      "  5/182 [..............................] - ETA: 41s - loss: 0.5450 - acc: 0.8625182/182 [==============================] - 28s 152ms/step - loss: 0.6279 - acc: 0.8122\n",
      "Epoch 70/80\n",
      "182/182 [==============================] - 28s 152ms/step - loss: 0.6368 - acc: 0.8130\n",
      "Epoch 71/80\n",
      "182/182 [==============================] - 28s 153ms/step - loss: 0.5821 - acc: 0.8239\n",
      "Epoch 72/80\n",
      "  5/182 [..............................] - ETA: 40s - loss: 0.6613 - acc: 0.8250182/182 [==============================] - 28s 152ms/step - loss: 0.5891 - acc: 0.8270\n",
      "Epoch 73/80\n",
      "182/182 [==============================] - 28s 153ms/step - loss: 0.5764 - acc: 0.8273\n",
      "Epoch 74/80\n",
      "182/182 [==============================] - 28s 152ms/step - loss: 0.5845 - acc: 0.8189\n",
      "Epoch 75/80\n",
      "  5/182 [..............................] - ETA: 41s - loss: 0.7348 - acc: 0.7625182/182 [==============================] - 28s 153ms/step - loss: 0.5783 - acc: 0.8230\n",
      "Epoch 76/80\n",
      "182/182 [==============================] - 28s 152ms/step - loss: 0.5609 - acc: 0.8309\n",
      "Epoch 77/80\n",
      "182/182 [==============================] - 28s 152ms/step - loss: 0.5527 - acc: 0.8305\n",
      "Epoch 78/80\n",
      "  5/182 [..............................] - ETA: 41s - loss: 0.4206 - acc: 0.8688182/182 [==============================] - 28s 152ms/step - loss: 0.5454 - acc: 0.8344\n",
      "Epoch 79/80\n",
      "182/182 [==============================] - 28s 153ms/step - loss: 0.5314 - acc: 0.8393\n",
      "Epoch 80/80\n",
      "182/182 [==============================] - 28s 152ms/step - loss: 0.5255 - acc: 0.8432\n"
     ]
    },
    {
     "data": {
      "text/plain": [
       "<keras.callbacks.History at 0x7fd3dccb4860>"
      ]
     },
     "execution_count": 73,
     "metadata": {
      "tags": []
     },
     "output_type": "execute_result"
    }
   ],
   "source": [
    "    # Fit the model on the batches generated by datagen.flow().\n",
    "  model.fit_generator(datagen.flow(x_train, y_train,batch_size=32),epochs=80,workers=4)"
   ]
  },
  {
   "cell_type": "code",
   "execution_count": 74,
   "metadata": {
    "colab": {
     "autoexec": {
      "startup": false,
      "wait_interval": 0
     },
     "base_uri": "https://localhost:8080/",
     "height": 34
    },
    "colab_type": "code",
    "executionInfo": {
     "elapsed": 1485,
     "status": "ok",
     "timestamp": 1523961390859,
     "user": {
      "displayName": "Nikunj jain",
      "photoUrl": "https://lh3.googleusercontent.com/a/default-user=s128",
      "userId": "114830894282907235020"
     },
     "user_tz": -330
    },
    "id": "N7SgL-6nV9iQ",
    "outputId": "395cd63f-3f3f-4c5f-b59f-706652561685"
   },
   "outputs": [
    {
     "name": "stdout",
     "output_type": "stream",
     "text": [
      "307/307 [==============================] - 1s 2ms/step\n"
     ]
    }
   ],
   "source": [
    "preds=model.evaluate(x_test,y_test)"
   ]
  },
  {
   "cell_type": "code",
   "execution_count": 75,
   "metadata": {
    "colab": {
     "autoexec": {
      "startup": false,
      "wait_interval": 0
     },
     "base_uri": "https://localhost:8080/",
     "height": 34
    },
    "colab_type": "code",
    "executionInfo": {
     "elapsed": 1209,
     "status": "ok",
     "timestamp": 1523961392982,
     "user": {
      "displayName": "Nikunj jain",
      "photoUrl": "https://lh3.googleusercontent.com/a/default-user=s128",
      "userId": "114830894282907235020"
     },
     "user_tz": -330
    },
    "id": "q8id9ofYiTxK",
    "outputId": "0241c0c1-da09-4c95-a736-8062c0a36c82"
   },
   "outputs": [
    {
     "data": {
      "text/plain": [
       "1.654766565813692"
      ]
     },
     "execution_count": 75,
     "metadata": {
      "tags": []
     },
     "output_type": "execute_result"
    }
   ],
   "source": [
    "preds[0]"
   ]
  },
  {
   "cell_type": "code",
   "execution_count": 76,
   "metadata": {
    "colab": {
     "autoexec": {
      "startup": false,
      "wait_interval": 0
     },
     "base_uri": "https://localhost:8080/",
     "height": 34
    },
    "colab_type": "code",
    "executionInfo": {
     "elapsed": 984,
     "status": "ok",
     "timestamp": 1523961394912,
     "user": {
      "displayName": "Nikunj jain",
      "photoUrl": "https://lh3.googleusercontent.com/a/default-user=s128",
      "userId": "114830894282907235020"
     },
     "user_tz": -330
    },
    "id": "CaVhrs_hV-jS",
    "outputId": "d4558a6a-0375-4a98-d198-215857f1feaf"
   },
   "outputs": [
    {
     "data": {
      "text/plain": [
       "71.33550506073023"
      ]
     },
     "execution_count": 76,
     "metadata": {
      "tags": []
     },
     "output_type": "execute_result"
    }
   ],
   "source": [
    "preds[1]*100"
   ]
  },
  {
   "cell_type": "code",
   "execution_count": 83,
   "metadata": {
    "colab": {
     "autoexec": {
      "startup": false,
      "wait_interval": 0
     },
     "base_uri": "https://localhost:8080/",
     "height": 972
    },
    "colab_type": "code",
    "executionInfo": {
     "elapsed": 2613,
     "status": "ok",
     "timestamp": 1522604615828,
     "user": {
      "displayName": "Nikunj jain",
      "photoUrl": "https://lh3.googleusercontent.com/a/default-user=s128",
      "userId": "114830894282907235020"
     },
     "user_tz": 0
    },
    "id": "da6fFa8DWBaa",
    "outputId": "bb70c183-d951-4df4-d00f-6820171ccc68"
   },
   "outputs": [
    {
     "name": "stdout",
     "output_type": "stream",
     "text": [
      "_________________________________________________________________\n",
      "Layer (type)                 Output Shape              Param #   \n",
      "=================================================================\n",
      "conv2d_17 (Conv2D)           (None, 64, 64, 32)        896       \n",
      "_________________________________________________________________\n",
      "activation_31 (Activation)   (None, 64, 64, 32)        0         \n",
      "_________________________________________________________________\n",
      "conv2d_18 (Conv2D)           (None, 62, 62, 32)        9248      \n",
      "_________________________________________________________________\n",
      "activation_32 (Activation)   (None, 62, 62, 32)        0         \n",
      "_________________________________________________________________\n",
      "max_pooling2d_9 (MaxPooling2 (None, 31, 31, 32)        0         \n",
      "_________________________________________________________________\n",
      "dropout_19 (Dropout)         (None, 31, 31, 32)        0         \n",
      "_________________________________________________________________\n",
      "conv2d_19 (Conv2D)           (None, 31, 31, 64)        18496     \n",
      "_________________________________________________________________\n",
      "activation_33 (Activation)   (None, 31, 31, 64)        0         \n",
      "_________________________________________________________________\n",
      "conv2d_20 (Conv2D)           (None, 29, 29, 64)        36928     \n",
      "_________________________________________________________________\n",
      "activation_34 (Activation)   (None, 29, 29, 64)        0         \n",
      "_________________________________________________________________\n",
      "max_pooling2d_10 (MaxPooling (None, 14, 14, 64)        0         \n",
      "_________________________________________________________________\n",
      "dropout_20 (Dropout)         (None, 14, 14, 64)        0         \n",
      "_________________________________________________________________\n",
      "flatten_5 (Flatten)          (None, 12544)             0         \n",
      "_________________________________________________________________\n",
      "dense_15 (Dense)             (None, 512)               6423040   \n",
      "_________________________________________________________________\n",
      "activation_35 (Activation)   (None, 512)               0         \n",
      "_________________________________________________________________\n",
      "dropout_21 (Dropout)         (None, 512)               0         \n",
      "_________________________________________________________________\n",
      "dense_16 (Dense)             (None, 512)               262656    \n",
      "_________________________________________________________________\n",
      "activation_36 (Activation)   (None, 512)               0         \n",
      "_________________________________________________________________\n",
      "dropout_22 (Dropout)         (None, 512)               0         \n",
      "_________________________________________________________________\n",
      "dense_17 (Dense)             (None, 512)               262656    \n",
      "_________________________________________________________________\n",
      "activation_37 (Activation)   (None, 512)               0         \n",
      "_________________________________________________________________\n",
      "dropout_23 (Dropout)         (None, 512)               0         \n",
      "_________________________________________________________________\n",
      "dense_18 (Dense)             (None, 100)               51300     \n",
      "_________________________________________________________________\n",
      "activation_38 (Activation)   (None, 100)               0         \n",
      "=================================================================\n",
      "Total params: 7,065,220\n",
      "Trainable params: 7,065,220\n",
      "Non-trainable params: 0\n",
      "_________________________________________________________________\n"
     ]
    }
   ],
   "source": [
    "model.summary()"
   ]
  },
  {
   "cell_type": "markdown",
   "metadata": {
    "colab_type": "text",
    "id": "I69t0TwhiF_7"
   },
   "source": [
    "# Calculate Recall"
   ]
  },
  {
   "cell_type": "code",
   "execution_count": 0,
   "metadata": {
    "colab": {
     "autoexec": {
      "startup": false,
      "wait_interval": 0
     }
    },
    "colab_type": "code",
    "id": "fAeSQ4ljUACF"
   },
   "outputs": [],
   "source": [
    "yt=np.argmax(y_test,axis=1)"
   ]
  },
  {
   "cell_type": "code",
   "execution_count": 108,
   "metadata": {
    "colab": {
     "autoexec": {
      "startup": false,
      "wait_interval": 0
     },
     "base_uri": "https://localhost:8080/",
     "height": 816
    },
    "colab_type": "code",
    "executionInfo": {
     "elapsed": 1569,
     "status": "ok",
     "timestamp": 1528645743849,
     "user": {
      "displayName": "Nikunj jain",
      "photoUrl": "https://lh3.googleusercontent.com/a/default-user=s128",
      "userId": "114830894282907235020"
     },
     "user_tz": -330
    },
    "id": "NqyLHTr_UMP7",
    "outputId": "1c8cc3af-51eb-4d47-a31e-05a041fa8dec",
    "scrolled": true
   },
   "outputs": [
    {
     "data": {
      "text/plain": [
       "array([ 65, 112,  61, 100,   0,  61,  17, 118,  85, 193, 159, 112,  39,\n",
       "        37,  76, 104,  11,  61, 197,  63,  27, 164, 141, 125,  61,   5,\n",
       "         2,  23,  34, 164,  99, 145, 166,  80,  37, 193, 132,  57,  92,\n",
       "        12,  49, 141, 100, 136,  44,   0,  92,  19,  61, 184,  82, 105,\n",
       "       177, 123,  92,  30,  45, 127, 134, 153, 134,  13,  81, 153, 140,\n",
       "        49, 129, 132,  60,  18,   0, 188,  99,   2,  37,  50,   1,  99,\n",
       "         6, 193,  61,  64, 184,  61, 196,  97,  49, 146, 199,   8, 155,\n",
       "        90, 193,  45,  51, 193,  57,   1, 150,  99,  95, 116,  35, 180,\n",
       "         0,  22,  75,  27, 103,  85, 106, 196, 164, 193, 111,  81, 109,\n",
       "       184, 192,  49,  27, 155, 138, 180,   0,  83, 111,  49, 154, 105,\n",
       "        64, 106,  75, 172, 194, 196,  91, 100,   0,  72,  46, 158,  36,\n",
       "       142,  35,  55, 104, 188,   2, 124,  84,  68,  35,  93,  24,   6,\n",
       "        89,  96, 151,  37,  61,  14, 159, 193,  95, 124,  97, 100,  67,\n",
       "       196,  34,  29, 191, 153,   1, 152, 155,  92,  85,  48, 149,  19,\n",
       "       103, 138,   0,  16, 108, 139, 131,  90, 184, 100,  61, 113, 137,\n",
       "        95, 138, 137,  60, 103, 178,  42,   9,  49, 102,   1,  49,   1,\n",
       "       103,  62,  56,  78,  27, 107,  49, 193, 153, 146, 137,  57, 192,\n",
       "       137,  81,  21, 107,  99, 188, 153,   2,  63,  16,  41, 140,  57,\n",
       "       197,  96,  13, 137, 129, 123,  57, 141,  49, 152,  54, 192, 150,\n",
       "        56, 172, 112, 197, 152,  57, 104, 181,  89, 142,  62,  95,  21,\n",
       "        50,  86,  27,  17,  24, 155, 155, 164,  92,  49,  96, 153,  55,\n",
       "       182, 138,  36,  87, 192, 169, 138, 112, 131, 103, 155,  95, 140,\n",
       "       188, 155, 197, 191, 114,  57,  61, 138,  41,  57,   8, 112,  35,\n",
       "        44, 192, 109, 188,  81,   5,   1, 193, 164,  49,  41, 103, 137,\n",
       "       118,  79, 111, 134, 103, 159, 118, 193,  85,  99, 114, 197, 164,\n",
       "       141,  80,  60, 107, 164, 103, 191,  51,  61, 114,  82, 196,  64,\n",
       "        89,  36, 137, 111,  62, 197,  42,  36,  42, 153,  64, 188,   6,\n",
       "       105, 153,  81,  95,  96,   6, 136,  57, 137,  49,  42,   0,  62,\n",
       "       197, 119,  99,  19, 104,  38,  67,  89, 137,  97,  99,  99,  56,\n",
       "       166, 123,  77, 152, 155, 182, 114,   8,  47, 160, 145,  57,   0,\n",
       "        95,  83, 192, 180,  53, 170, 175, 129,   2, 199,  86, 123, 110,\n",
       "       192,  81, 130, 103,  56, 112, 191,  86,   5, 167, 193, 129,  27,\n",
       "       197, 199, 179,  57,  51,  60, 197,  60, 131, 152, 116,  57,  83,\n",
       "        17, 192, 192,  27, 147,  99,  60, 191,  39, 123, 151, 132, 180,\n",
       "        48,   6, 137, 132,  76,   0,  58,  49,  82, 137,  51,  34,  62,\n",
       "       193,  37, 142, 140, 138,  55, 159,  67, 177, 193,  75,  27,  49,\n",
       "       108, 197,   3, 113, 147,   0, 155,  25,   6, 173, 113,  68,  60,\n",
       "        61, 129,   3,   1, 132,  34,  69,  90, 126,  68, 185,  62, 159,\n",
       "        27,  71, 155,  57, 124, 145, 171, 175,  45, 124, 131,  46, 153,\n",
       "         1,   6, 147,  81, 131,  24, 113,  17, 172,  61, 184, 164,   5,\n",
       "       152,  58, 159,  39, 151,  37,  86, 103,  86, 159,   0, 126,  62,\n",
       "        29,  38, 164, 184, 178, 164,   2, 175,  24,  67,  45, 111, 132,\n",
       "       132,  19, 197, 159, 164,  39,   8,  62, 153, 107, 147,  64, 112,\n",
       "        35, 100, 170,  57,  95,  29,   2, 185, 147,   4,  49,  44,  71,\n",
       "       124, 153, 104, 137, 104, 177,  30, 112, 166,  75,  92, 103,   2,\n",
       "         8, 113, 100,   1,   0,  92, 137, 193, 125,  13, 129, 152, 118,\n",
       "       151,  47,   1,  61, 153,  44,   0, 155,  13,  37, 184,  84])"
      ]
     },
     "execution_count": 108,
     "metadata": {
      "tags": []
     },
     "output_type": "execute_result"
    }
   ],
   "source": [
    "yt"
   ]
  },
  {
   "cell_type": "code",
   "execution_count": 0,
   "metadata": {
    "colab": {
     "autoexec": {
      "startup": false,
      "wait_interval": 0
     }
    },
    "colab_type": "code",
    "id": "VeJdyCfPU4SE"
   },
   "outputs": [],
   "source": [
    "unq,cnt=np.unique(yt,return_counts=True)"
   ]
  },
  {
   "cell_type": "code",
   "execution_count": 0,
   "metadata": {
    "colab": {
     "autoexec": {
      "startup": false,
      "wait_interval": 0
     }
    },
    "colab_type": "code",
    "id": "VJN_WwukWPgX"
   },
   "outputs": [],
   "source": [
    "recall=dict(zip(unq,np.zeros(len(unq))))"
   ]
  },
  {
   "cell_type": "code",
   "execution_count": 0,
   "metadata": {
    "colab": {
     "autoexec": {
      "startup": false,
      "wait_interval": 0
     }
    },
    "colab_type": "code",
    "id": "iybUqmokXKmc"
   },
   "outputs": [],
   "source": [
    "for i in range(len(yt)):\n",
    "  if predictions[i]==yt[i]:\n",
    "    recall[yt[i]]+=1\n",
    "  "
   ]
  },
  {
   "cell_type": "code",
   "execution_count": 0,
   "metadata": {
    "colab": {
     "autoexec": {
      "startup": false,
      "wait_interval": 0
     }
    },
    "colab_type": "code",
    "id": "8OqvQBH5cmmS"
   },
   "outputs": [],
   "source": [
    "recall2=dict(zip(unq,cnt))"
   ]
  },
  {
   "cell_type": "code",
   "execution_count": 0,
   "metadata": {
    "colab": {
     "autoexec": {
      "startup": false,
      "wait_interval": 0
     }
    },
    "colab_type": "code",
    "id": "TT7XCzNVdgmu"
   },
   "outputs": [],
   "source": [
    "recall3=np.zeros([len(unq),3])"
   ]
  },
  {
   "cell_type": "code",
   "execution_count": 0,
   "metadata": {
    "colab": {
     "autoexec": {
      "startup": false,
      "wait_interval": 0
     }
    },
    "colab_type": "code",
    "id": "FuxCeqhYeqkZ"
   },
   "outputs": [],
   "source": [
    "for i in range(len(unq)):\n",
    "  recall3[i][0]=recall[unq[i]]\n",
    "  recall3[i][1]=recall2[unq[i]]\n",
    "  recall3[i][2]=recall[unq[i]]/recall2[unq[i]]"
   ]
  },
  {
   "cell_type": "code",
   "execution_count": 0,
   "metadata": {
    "colab": {
     "autoexec": {
      "startup": false,
      "wait_interval": 0
     }
    },
    "colab_type": "code",
    "id": "GZH8x6tvf_q6"
   },
   "outputs": [],
   "source": [
    "recall_values=dict(zip(unq,recall3))"
   ]
  },
  {
   "cell_type": "code",
   "execution_count": 137,
   "metadata": {
    "colab": {
     "autoexec": {
      "startup": false,
      "wait_interval": 0
     },
     "base_uri": "https://localhost:8080/",
     "height": 34
    },
    "colab_type": "code",
    "executionInfo": {
     "elapsed": 944,
     "status": "ok",
     "timestamp": 1522608297339,
     "user": {
      "displayName": "Nikunj jain",
      "photoUrl": "https://lh3.googleusercontent.com/a/default-user=s128",
      "userId": "114830894282907235020"
     },
     "user_tz": 0
    },
    "id": "Ji4k_yxdgsqc",
    "outputId": "dd8984e7-97b1-427f-87ef-3b396436beb4"
   },
   "outputs": [
    {
     "data": {
      "text/plain": [
       "'%.2f'"
      ]
     },
     "execution_count": 137,
     "metadata": {
      "tags": []
     },
     "output_type": "execute_result"
    }
   ],
   "source": [
    "%precision 2"
   ]
  },
  {
   "cell_type": "code",
   "execution_count": 138,
   "metadata": {
    "colab": {
     "autoexec": {
      "startup": false,
      "wait_interval": 0
     },
     "base_uri": "https://localhost:8080/",
     "height": 1320
    },
    "colab_type": "code",
    "executionInfo": {
     "elapsed": 998,
     "status": "ok",
     "timestamp": 1522608303196,
     "user": {
      "displayName": "Nikunj jain",
      "photoUrl": "https://lh3.googleusercontent.com/a/default-user=s128",
      "userId": "114830894282907235020"
     },
     "user_tz": 0
    },
    "id": "p9tQAaAngqo3",
    "outputId": "a6747c2c-be6c-4cbf-db9d-c1d5cab6205a",
    "scrolled": true
   },
   "outputs": [
    {
     "data": {
      "text/plain": [
       "{0: array([11.  , 12.  ,  0.92]),\n",
       " 1: array([6.  , 7.  , 0.86]),\n",
       " 2: array([2.  , 7.  , 0.29]),\n",
       " 3: array([2., 2., 1.]),\n",
       " 4: array([0., 1., 0.]),\n",
       " 5: array([1. , 2. , 0.5]),\n",
       " 6: array([7., 7., 1.]),\n",
       " 8: array([3.  , 4.  , 0.75]),\n",
       " 13: array([5.  , 6.  , 0.83]),\n",
       " 15: array([1., 1., 1.]),\n",
       " 16: array([2., 2., 1.]),\n",
       " 17: array([3. , 5. , 0.6]),\n",
       " 18: array([1., 1., 1.]),\n",
       " 19: array([2. , 4. , 0.5]),\n",
       " 20: array([1. , 2. , 0.5]),\n",
       " 21: array([2.  , 3.  , 0.67]),\n",
       " 23: array([3.  , 7.  , 0.43]),\n",
       " 24: array([1. , 2. , 0.5]),\n",
       " 25: array([0., 2., 0.]),\n",
       " 26: array([0., 1., 0.]),\n",
       " 27: array([4. , 5. , 0.8]),\n",
       " 29: array([1., 1., 1.]),\n",
       " 30: array([3., 3., 1.]),\n",
       " 31: array([2.  , 3.  , 0.67]),\n",
       " 32: array([1. , 2. , 0.5]),\n",
       " 34: array([5.  , 7.  , 0.71]),\n",
       " 35: array([3. , 6. , 0.5]),\n",
       " 36: array([4., 4., 1.]),\n",
       " 37: array([4.  , 6.  , 0.67]),\n",
       " 38: array([4., 4., 1.]),\n",
       " 39: array([ 8. , 10. ,  0.8]),\n",
       " 42: array([1., 1., 1.]),\n",
       " 44: array([1., 1., 1.]),\n",
       " 45: array([0., 1., 0.]),\n",
       " 47: array([0., 1., 0.]),\n",
       " 48: array([1.  , 3.  , 0.33]),\n",
       " 49: array([ 9. , 10. ,  0.9]),\n",
       " 50: array([6.  , 7.  , 0.86]),\n",
       " 51: array([2.  , 7.  , 0.29]),\n",
       " 53: array([1., 1., 1.]),\n",
       " 54: array([2. , 4. , 0.5]),\n",
       " 55: array([0., 1., 0.]),\n",
       " 56: array([4. , 5. , 0.8]),\n",
       " 57: array([15., 15.,  1.]),\n",
       " 58: array([0., 4., 0.]),\n",
       " 60: array([5.  , 6.  , 0.83]),\n",
       " 61: array([10.  , 11.  ,  0.91]),\n",
       " 62: array([ 7. , 10. ,  0.7]),\n",
       " 63: array([0., 2., 0.]),\n",
       " 64: array([3., 3., 1.]),\n",
       " 65: array([1., 1., 1.]),\n",
       " 67: array([3., 3., 1.]),\n",
       " 68: array([1., 1., 1.]),\n",
       " 70: array([0., 1., 0.]),\n",
       " 71: array([1., 1., 1.]),\n",
       " 73: array([1., 1., 1.]),\n",
       " 75: array([2.  , 3.  , 0.67]),\n",
       " 76: array([3., 3., 1.]),\n",
       " 77: array([0., 2., 0.]),\n",
       " 79: array([0., 2., 0.]),\n",
       " 80: array([3., 3., 1.]),\n",
       " 81: array([3.  , 4.  , 0.75]),\n",
       " 82: array([2. , 5. , 0.4]),\n",
       " 83: array([1., 1., 1.]),\n",
       " 84: array([2.  , 3.  , 0.67]),\n",
       " 85: array([4.  , 6.  , 0.67]),\n",
       " 86: array([6.  , 7.  , 0.86]),\n",
       " 89: array([0., 1., 0.]),\n",
       " 90: array([1., 1., 1.]),\n",
       " 92: array([7., 7., 1.]),\n",
       " 95: array([4.  , 6.  , 0.67]),\n",
       " 96: array([1.  , 3.  , 0.33]),\n",
       " 97: array([1.  , 3.  , 0.33]),\n",
       " 98: array([1., 1., 1.]),\n",
       " 99: array([12.  , 16.  ,  0.75])}"
      ]
     },
     "execution_count": 138,
     "metadata": {
      "tags": []
     },
     "output_type": "execute_result"
    }
   ],
   "source": [
    "recall_values"
   ]
  },
  {
   "cell_type": "markdown",
   "metadata": {
    "colab_type": "text",
    "id": "0ian50mzvANs"
   },
   "source": [
    "# Transfer Learning (200 classes model)"
   ]
  },
  {
   "cell_type": "code",
   "execution_count": 0,
   "metadata": {
    "colab": {
     "autoexec": {
      "startup": false,
      "wait_interval": 0
     }
    },
    "colab_type": "code",
    "id": "gFeZYSExjyoI"
   },
   "outputs": [],
   "source": [
    "from keras.applications import VGG19\n",
    "from keras import optimizers"
   ]
  },
  {
   "cell_type": "code",
   "execution_count": 0,
   "metadata": {
    "colab": {
     "autoexec": {
      "startup": false,
      "wait_interval": 0
     }
    },
    "colab_type": "code",
    "id": "ZFBg8S2HnGCh"
   },
   "outputs": [],
   "source": [
    "vgg_model = VGG19(weights = \"imagenet\", include_top=False, input_shape = (128, 128, 3))"
   ]
  },
  {
   "cell_type": "code",
   "execution_count": 43,
   "metadata": {
    "colab": {
     "autoexec": {
      "startup": false,
      "wait_interval": 0
     },
     "base_uri": "https://localhost:8080/",
     "height": 884
    },
    "colab_type": "code",
    "executionInfo": {
     "elapsed": 1466,
     "status": "ok",
     "timestamp": 1528631284546,
     "user": {
      "displayName": "Nikunj jain",
      "photoUrl": "https://lh3.googleusercontent.com/a/default-user=s128",
      "userId": "114830894282907235020"
     },
     "user_tz": -330
    },
    "id": "6Co6GWeYoFd_",
    "outputId": "65609c2e-27e3-4add-fefc-fffe7c46ad76",
    "scrolled": true
   },
   "outputs": [
    {
     "name": "stdout",
     "output_type": "stream",
     "text": [
      "_________________________________________________________________\n",
      "Layer (type)                 Output Shape              Param #   \n",
      "=================================================================\n",
      "input_1 (InputLayer)         (None, 128, 128, 3)       0         \n",
      "_________________________________________________________________\n",
      "block1_conv1 (Conv2D)        (None, 128, 128, 64)      1792      \n",
      "_________________________________________________________________\n",
      "block1_conv2 (Conv2D)        (None, 128, 128, 64)      36928     \n",
      "_________________________________________________________________\n",
      "block1_pool (MaxPooling2D)   (None, 64, 64, 64)        0         \n",
      "_________________________________________________________________\n",
      "block2_conv1 (Conv2D)        (None, 64, 64, 128)       73856     \n",
      "_________________________________________________________________\n",
      "block2_conv2 (Conv2D)        (None, 64, 64, 128)       147584    \n",
      "_________________________________________________________________\n",
      "block2_pool (MaxPooling2D)   (None, 32, 32, 128)       0         \n",
      "_________________________________________________________________\n",
      "block3_conv1 (Conv2D)        (None, 32, 32, 256)       295168    \n",
      "_________________________________________________________________\n",
      "block3_conv2 (Conv2D)        (None, 32, 32, 256)       590080    \n",
      "_________________________________________________________________\n",
      "block3_conv3 (Conv2D)        (None, 32, 32, 256)       590080    \n",
      "_________________________________________________________________\n",
      "block3_conv4 (Conv2D)        (None, 32, 32, 256)       590080    \n",
      "_________________________________________________________________\n",
      "block3_pool (MaxPooling2D)   (None, 16, 16, 256)       0         \n",
      "_________________________________________________________________\n",
      "block4_conv1 (Conv2D)        (None, 16, 16, 512)       1180160   \n",
      "_________________________________________________________________\n",
      "block4_conv2 (Conv2D)        (None, 16, 16, 512)       2359808   \n",
      "_________________________________________________________________\n",
      "block4_conv3 (Conv2D)        (None, 16, 16, 512)       2359808   \n",
      "_________________________________________________________________\n",
      "block4_conv4 (Conv2D)        (None, 16, 16, 512)       2359808   \n",
      "_________________________________________________________________\n",
      "block4_pool (MaxPooling2D)   (None, 8, 8, 512)         0         \n",
      "_________________________________________________________________\n",
      "block5_conv1 (Conv2D)        (None, 8, 8, 512)         2359808   \n",
      "_________________________________________________________________\n",
      "block5_conv2 (Conv2D)        (None, 8, 8, 512)         2359808   \n",
      "_________________________________________________________________\n",
      "block5_conv3 (Conv2D)        (None, 8, 8, 512)         2359808   \n",
      "_________________________________________________________________\n",
      "block5_conv4 (Conv2D)        (None, 8, 8, 512)         2359808   \n",
      "_________________________________________________________________\n",
      "block5_pool (MaxPooling2D)   (None, 4, 4, 512)         0         \n",
      "=================================================================\n",
      "Total params: 20,024,384\n",
      "Trainable params: 20,024,384\n",
      "Non-trainable params: 0\n",
      "_________________________________________________________________\n"
     ]
    }
   ],
   "source": [
    "vgg_model.summary()"
   ]
  },
  {
   "cell_type": "code",
   "execution_count": 0,
   "metadata": {
    "colab": {
     "autoexec": {
      "startup": false,
      "wait_interval": 0
     }
    },
    "colab_type": "code",
    "id": "NY9biBpzoLuO"
   },
   "outputs": [],
   "source": [
    "for layer in vgg_model.layers[:4]:\n",
    "  layer.trainable = False"
   ]
  },
  {
   "cell_type": "code",
   "execution_count": 0,
   "metadata": {
    "colab": {
     "autoexec": {
      "startup": false,
      "wait_interval": 0
     }
    },
    "colab_type": "code",
    "id": "N2zMv2dEpLAC"
   },
   "outputs": [],
   "source": [
    "x = vgg_model.output\n",
    "x = Flatten()(x)\n",
    "x = Dense(1024, activation=\"tanh\")(x)\n",
    "x = Dropout(0.5)(x)\n",
    "x = Dense(1024, activation=\"tanh\")(x)\n",
    "predictions = Dense(200, activation=\"softmax\")(x)"
   ]
  },
  {
   "cell_type": "code",
   "execution_count": 59,
   "metadata": {
    "colab": {
     "autoexec": {
      "startup": false,
      "wait_interval": 0
     },
     "base_uri": "https://localhost:8080/",
     "height": 71
    },
    "colab_type": "code",
    "executionInfo": {
     "elapsed": 1160,
     "status": "ok",
     "timestamp": 1528638400807,
     "user": {
      "displayName": "Nikunj jain",
      "photoUrl": "https://lh3.googleusercontent.com/a/default-user=s128",
      "userId": "114830894282907235020"
     },
     "user_tz": -330
    },
    "id": "PpBDYtCJpRML",
    "outputId": "c69bcc80-adbd-44cc-bce4-b35f49cef80d",
    "scrolled": true
   },
   "outputs": [
    {
     "name": "stderr",
     "output_type": "stream",
     "text": [
      "/usr/local/lib/python3.6/dist-packages/ipykernel_launcher.py:1: UserWarning: Update your `Model` call to the Keras 2 API: `Model(inputs=Tensor(\"in..., outputs=Tensor(\"de...)`\n",
      "  \"\"\"Entry point for launching an IPython kernel.\n"
     ]
    }
   ],
   "source": [
    "vgg_model_final = Model(input =vgg_model.input, output = predictions)"
   ]
  },
  {
   "cell_type": "code",
   "execution_count": 0,
   "metadata": {
    "colab": {
     "autoexec": {
      "startup": false,
      "wait_interval": 0
     }
    },
    "colab_type": "code",
    "id": "oLFhjQXVpc1F"
   },
   "outputs": [],
   "source": [
    "vgg_model_final.compile(loss = \"categorical_crossentropy\", optimizer = optimizers.SGD(lr=0.0001, momentum=0.9), metrics=[\"accuracy\"])"
   ]
  },
  {
   "cell_type": "code",
   "execution_count": 61,
   "metadata": {
    "colab": {
     "autoexec": {
      "startup": false,
      "wait_interval": 0
     },
     "base_uri": "https://localhost:8080/",
     "height": 1737
    },
    "colab_type": "code",
    "executionInfo": {
     "elapsed": 5347095,
     "status": "ok",
     "timestamp": 1528643750955,
     "user": {
      "displayName": "Nikunj jain",
      "photoUrl": "https://lh3.googleusercontent.com/a/default-user=s128",
      "userId": "114830894282907235020"
     },
     "user_tz": -330
    },
    "id": "zdztOl-1ppZf",
    "outputId": "32d2168a-1eae-4e53-cbca-2c78e2022a12"
   },
   "outputs": [
    {
     "name": "stdout",
     "output_type": "stream",
     "text": [
      "Epoch 1/50\n",
      "363/363 [==============================] - 108s 297ms/step - loss: 5.0942 - acc: 0.0286\n",
      "Epoch 2/50\n",
      "349/363 [===========================>..] - ETA: 4s - loss: 4.5910 - acc: 0.0977363/363 [==============================] - 107s 294ms/step - loss: 4.5882 - acc: 0.0975\n",
      "Epoch 3/50\n",
      "363/363 [==============================] - 107s 294ms/step - loss: 4.0585 - acc: 0.1893\n",
      "Epoch 4/50\n",
      "119/363 [========>.....................] - ETA: 1:11 - loss: 3.7575 - acc: 0.2353363/363 [==============================] - 107s 294ms/step - loss: 3.6221 - acc: 0.2661\n",
      "Epoch 5/50\n",
      "363/363 [==============================] - 107s 294ms/step - loss: 3.2647 - acc: 0.3315\n",
      "Epoch 6/50\n",
      " 53/363 [===>..........................] - ETA: 1:32 - loss: 3.0095 - acc: 0.3939363/363 [==============================] - 107s 294ms/step - loss: 2.9554 - acc: 0.3951\n",
      "Epoch 7/50\n",
      "363/363 [==============================] - 107s 294ms/step - loss: 2.6710 - acc: 0.4509\n",
      "Epoch 8/50\n",
      " 34/363 [=>............................] - ETA: 1:38 - loss: 2.5046 - acc: 0.4835363/363 [==============================] - 107s 294ms/step - loss: 2.4216 - acc: 0.5021\n",
      "Epoch 9/50\n",
      "363/363 [==============================] - 107s 294ms/step - loss: 2.2201 - acc: 0.5432\n",
      "Epoch 10/50\n",
      " 28/363 [=>............................] - ETA: 1:41 - loss: 2.0840 - acc: 0.5670363/363 [==============================] - 107s 294ms/step - loss: 2.0504 - acc: 0.5795\n",
      "Epoch 11/50\n",
      "363/363 [==============================] - 107s 295ms/step - loss: 1.8946 - acc: 0.6062\n",
      "Epoch 12/50\n",
      " 25/363 [=>............................] - ETA: 1:43 - loss: 1.8326 - acc: 0.6238363/363 [==============================] - 107s 295ms/step - loss: 1.7516 - acc: 0.6402\n",
      "Epoch 13/50\n",
      "363/363 [==============================] - 107s 295ms/step - loss: 1.6372 - acc: 0.6613\n",
      "Epoch 14/50\n",
      " 24/363 [>.............................] - ETA: 1:44 - loss: 1.5456 - acc: 0.6875363/363 [==============================] - 107s 294ms/step - loss: 1.5345 - acc: 0.6890\n",
      "Epoch 15/50\n",
      "363/363 [==============================] - 107s 294ms/step - loss: 1.4297 - acc: 0.7065\n",
      "Epoch 16/50\n",
      " 24/363 [>.............................] - ETA: 1:43 - loss: 1.3917 - acc: 0.7188363/363 [==============================] - 107s 294ms/step - loss: 1.3276 - acc: 0.7295\n",
      "Epoch 17/50\n",
      "363/363 [==============================] - 107s 294ms/step - loss: 1.2494 - acc: 0.7417\n",
      "Epoch 18/50\n",
      " 24/363 [>.............................] - ETA: 1:43 - loss: 1.1578 - acc: 0.7656363/363 [==============================] - 107s 294ms/step - loss: 1.1620 - acc: 0.7618\n",
      "Epoch 19/50\n",
      "363/363 [==============================] - 107s 294ms/step - loss: 1.0916 - acc: 0.7781\n",
      "Epoch 20/50\n",
      " 24/363 [>.............................] - ETA: 1:43 - loss: 1.0480 - acc: 0.7669363/363 [==============================] - 107s 294ms/step - loss: 1.0391 - acc: 0.7892\n",
      "Epoch 21/50\n",
      "363/363 [==============================] - 107s 294ms/step - loss: 0.9854 - acc: 0.8018\n",
      "Epoch 22/50\n",
      " 24/363 [>.............................] - ETA: 1:42 - loss: 1.0306 - acc: 0.8034363/363 [==============================] - 107s 295ms/step - loss: 0.9285 - acc: 0.8124\n",
      "Epoch 23/50\n",
      "363/363 [==============================] - 107s 294ms/step - loss: 0.8680 - acc: 0.8266\n",
      "Epoch 24/50\n",
      " 24/363 [>.............................] - ETA: 1:40 - loss: 0.9103 - acc: 0.8164363/363 [==============================] - 107s 294ms/step - loss: 0.8293 - acc: 0.8364\n",
      "Epoch 25/50\n",
      "363/363 [==============================] - 107s 295ms/step - loss: 0.7815 - acc: 0.8456\n",
      "Epoch 26/50\n",
      " 24/363 [>.............................] - ETA: 1:44 - loss: 0.7614 - acc: 0.8646363/363 [==============================] - 107s 295ms/step - loss: 0.7444 - acc: 0.8538\n",
      "Epoch 27/50\n",
      "363/363 [==============================] - 107s 295ms/step - loss: 0.7150 - acc: 0.8581\n",
      "Epoch 28/50\n",
      " 24/363 [>.............................] - ETA: 1:44 - loss: 0.6628 - acc: 0.8763363/363 [==============================] - 107s 295ms/step - loss: 0.6653 - acc: 0.8691\n",
      "Epoch 29/50\n",
      "363/363 [==============================] - 107s 295ms/step - loss: 0.6316 - acc: 0.8774\n",
      "Epoch 30/50\n",
      " 24/363 [>.............................] - ETA: 1:45 - loss: 0.5457 - acc: 0.9128363/363 [==============================] - 107s 294ms/step - loss: 0.6038 - acc: 0.8872\n",
      "Epoch 31/50\n",
      "363/363 [==============================] - 107s 295ms/step - loss: 0.5731 - acc: 0.8938\n",
      "Epoch 32/50\n",
      " 24/363 [>.............................] - ETA: 1:43 - loss: 0.5865 - acc: 0.8880363/363 [==============================] - 107s 294ms/step - loss: 0.5445 - acc: 0.9006\n",
      "Epoch 33/50\n",
      "363/363 [==============================] - 107s 294ms/step - loss: 0.5228 - acc: 0.9047\n",
      "Epoch 34/50\n",
      " 24/363 [>.............................] - ETA: 1:43 - loss: 0.5049 - acc: 0.9036363/363 [==============================] - 107s 294ms/step - loss: 0.4975 - acc: 0.9074\n",
      "Epoch 35/50\n",
      "363/363 [==============================] - 107s 294ms/step - loss: 0.4763 - acc: 0.9124\n",
      "Epoch 36/50\n",
      " 24/363 [>.............................] - ETA: 1:43 - loss: 0.4425 - acc: 0.9323363/363 [==============================] - 107s 294ms/step - loss: 0.4461 - acc: 0.9211\n",
      "Epoch 37/50\n",
      "363/363 [==============================] - 107s 294ms/step - loss: 0.4289 - acc: 0.9252\n",
      "Epoch 38/50\n",
      " 24/363 [>.............................] - ETA: 1:44 - loss: 0.3929 - acc: 0.9349363/363 [==============================] - 107s 294ms/step - loss: 0.4078 - acc: 0.9291\n",
      "Epoch 39/50\n",
      "363/363 [==============================] - 107s 293ms/step - loss: 0.3899 - acc: 0.9337\n",
      "Epoch 40/50\n",
      " 24/363 [>.............................] - ETA: 1:42 - loss: 0.3984 - acc: 0.9284363/363 [==============================] - 107s 294ms/step - loss: 0.3692 - acc: 0.9384\n",
      "Epoch 41/50\n",
      "363/363 [==============================] - 107s 294ms/step - loss: 0.3572 - acc: 0.9422\n",
      "Epoch 42/50\n",
      " 24/363 [>.............................] - ETA: 1:44 - loss: 0.3097 - acc: 0.9635363/363 [==============================] - 107s 295ms/step - loss: 0.3384 - acc: 0.9465\n",
      "Epoch 43/50\n",
      "363/363 [==============================] - 107s 295ms/step - loss: 0.3197 - acc: 0.9483\n",
      "Epoch 44/50\n",
      " 24/363 [>.............................] - ETA: 1:45 - loss: 0.3153 - acc: 0.9492363/363 [==============================] - 107s 295ms/step - loss: 0.3093 - acc: 0.9519\n",
      "Epoch 45/50\n",
      "363/363 [==============================] - 107s 295ms/step - loss: 0.2872 - acc: 0.9597\n",
      "Epoch 46/50\n",
      " 24/363 [>.............................] - ETA: 1:43 - loss: 0.2836 - acc: 0.9609363/363 [==============================] - 107s 294ms/step - loss: 0.2783 - acc: 0.9589\n",
      "Epoch 47/50\n",
      "363/363 [==============================] - 107s 295ms/step - loss: 0.2619 - acc: 0.9638\n",
      "Epoch 48/50\n",
      " 24/363 [>.............................] - ETA: 1:44 - loss: 0.2245 - acc: 0.9727363/363 [==============================] - 107s 295ms/step - loss: 0.2484 - acc: 0.9658\n",
      "Epoch 49/50\n",
      "363/363 [==============================] - 107s 295ms/step - loss: 0.2394 - acc: 0.9690\n",
      "Epoch 50/50\n",
      " 24/363 [>.............................] - ETA: 1:42 - loss: 0.2412 - acc: 0.9727363/363 [==============================] - 107s 294ms/step - loss: 0.2330 - acc: 0.9691\n"
     ]
    }
   ],
   "source": [
    "history=vgg_model_final.fit_generator(datagen.flow(x_train, y_train,batch_size=32),epochs=50,workers=4)"
   ]
  },
  {
   "cell_type": "code",
   "execution_count": 62,
   "metadata": {
    "colab": {
     "autoexec": {
      "startup": false,
      "wait_interval": 0
     },
     "base_uri": "https://localhost:8080/",
     "height": 34
    },
    "colab_type": "code",
    "executionInfo": {
     "elapsed": 3418,
     "status": "ok",
     "timestamp": 1528643766728,
     "user": {
      "displayName": "Nikunj jain",
      "photoUrl": "https://lh3.googleusercontent.com/a/default-user=s128",
      "userId": "114830894282907235020"
     },
     "user_tz": -330
    },
    "id": "h_QrUPbHqFXc",
    "outputId": "e66c66f8-d21e-46d4-b740-98777d31cb15"
   },
   "outputs": [
    {
     "name": "stdout",
     "output_type": "stream",
     "text": [
      "610/610 [==============================] - 2s 4ms/step\n"
     ]
    }
   ],
   "source": [
    "preds=vgg_model_final.evaluate(x_test,y_test)"
   ]
  },
  {
   "cell_type": "code",
   "execution_count": 63,
   "metadata": {
    "colab": {
     "autoexec": {
      "startup": false,
      "wait_interval": 0
     },
     "base_uri": "https://localhost:8080/",
     "height": 34
    },
    "colab_type": "code",
    "executionInfo": {
     "elapsed": 1045,
     "status": "ok",
     "timestamp": 1528643770886,
     "user": {
      "displayName": "Nikunj jain",
      "photoUrl": "https://lh3.googleusercontent.com/a/default-user=s128",
      "userId": "114830894282907235020"
     },
     "user_tz": -330
    },
    "id": "ol8Akt7cu18I",
    "outputId": "db28108c-3db2-4e21-9e04-ea49c34e197f"
   },
   "outputs": [
    {
     "data": {
      "text/plain": [
       "0.5291968886969519"
      ]
     },
     "execution_count": 63,
     "metadata": {
      "tags": []
     },
     "output_type": "execute_result"
    }
   ],
   "source": [
    "preds[0]"
   ]
  },
  {
   "cell_type": "code",
   "execution_count": 64,
   "metadata": {
    "colab": {
     "autoexec": {
      "startup": false,
      "wait_interval": 0
     },
     "base_uri": "https://localhost:8080/",
     "height": 34
    },
    "colab_type": "code",
    "executionInfo": {
     "elapsed": 1148,
     "status": "ok",
     "timestamp": 1528643776287,
     "user": {
      "displayName": "Nikunj jain",
      "photoUrl": "https://lh3.googleusercontent.com/a/default-user=s128",
      "userId": "114830894282907235020"
     },
     "user_tz": -330
    },
    "id": "Clw-A-yWu3ea",
    "outputId": "06989c20-aef7-417d-e8a7-bc03d81e9510"
   },
   "outputs": [
    {
     "data": {
      "text/plain": [
       "85.24590163934425"
      ]
     },
     "execution_count": 64,
     "metadata": {
      "tags": []
     },
     "output_type": "execute_result"
    }
   ],
   "source": [
    "preds[1]*100"
   ]
  },
  {
   "cell_type": "code",
   "execution_count": 83,
   "metadata": {
    "colab": {
     "autoexec": {
      "startup": false,
      "wait_interval": 0
     },
     "base_uri": "https://localhost:8080/",
     "height": 1126
    },
    "colab_type": "code",
    "executionInfo": {
     "elapsed": 984,
     "status": "ok",
     "timestamp": 1523441719395,
     "user": {
      "displayName": "Nikunj jain",
      "photoUrl": "https://lh3.googleusercontent.com/a/default-user=s128",
      "userId": "114830894282907235020"
     },
     "user_tz": -330
    },
    "id": "m9rB8M8Su5DZ",
    "outputId": "817ca160-6cd1-47c3-f498-a60cd9f40674",
    "scrolled": true
   },
   "outputs": [
    {
     "name": "stdout",
     "output_type": "stream",
     "text": [
      "_________________________________________________________________\n",
      "Layer (type)                 Output Shape              Param #   \n",
      "=================================================================\n",
      "input_2 (InputLayer)         (None, 64, 64, 3)         0         \n",
      "_________________________________________________________________\n",
      "block1_conv1 (Conv2D)        (None, 64, 64, 64)        1792      \n",
      "_________________________________________________________________\n",
      "block1_conv2 (Conv2D)        (None, 64, 64, 64)        36928     \n",
      "_________________________________________________________________\n",
      "block1_pool (MaxPooling2D)   (None, 32, 32, 64)        0         \n",
      "_________________________________________________________________\n",
      "block2_conv1 (Conv2D)        (None, 32, 32, 128)       73856     \n",
      "_________________________________________________________________\n",
      "block2_conv2 (Conv2D)        (None, 32, 32, 128)       147584    \n",
      "_________________________________________________________________\n",
      "block2_pool (MaxPooling2D)   (None, 16, 16, 128)       0         \n",
      "_________________________________________________________________\n",
      "block3_conv1 (Conv2D)        (None, 16, 16, 256)       295168    \n",
      "_________________________________________________________________\n",
      "block3_conv2 (Conv2D)        (None, 16, 16, 256)       590080    \n",
      "_________________________________________________________________\n",
      "block3_conv3 (Conv2D)        (None, 16, 16, 256)       590080    \n",
      "_________________________________________________________________\n",
      "block3_conv4 (Conv2D)        (None, 16, 16, 256)       590080    \n",
      "_________________________________________________________________\n",
      "block3_pool (MaxPooling2D)   (None, 8, 8, 256)         0         \n",
      "_________________________________________________________________\n",
      "block4_conv1 (Conv2D)        (None, 8, 8, 512)         1180160   \n",
      "_________________________________________________________________\n",
      "block4_conv2 (Conv2D)        (None, 8, 8, 512)         2359808   \n",
      "_________________________________________________________________\n",
      "block4_conv3 (Conv2D)        (None, 8, 8, 512)         2359808   \n",
      "_________________________________________________________________\n",
      "block4_conv4 (Conv2D)        (None, 8, 8, 512)         2359808   \n",
      "_________________________________________________________________\n",
      "block4_pool (MaxPooling2D)   (None, 4, 4, 512)         0         \n",
      "_________________________________________________________________\n",
      "block5_conv1 (Conv2D)        (None, 4, 4, 512)         2359808   \n",
      "_________________________________________________________________\n",
      "block5_conv2 (Conv2D)        (None, 4, 4, 512)         2359808   \n",
      "_________________________________________________________________\n",
      "block5_conv3 (Conv2D)        (None, 4, 4, 512)         2359808   \n",
      "_________________________________________________________________\n",
      "block5_conv4 (Conv2D)        (None, 4, 4, 512)         2359808   \n",
      "_________________________________________________________________\n",
      "block5_pool (MaxPooling2D)   (None, 2, 2, 512)         0         \n",
      "_________________________________________________________________\n",
      "flatten_4 (Flatten)          (None, 2048)              0         \n",
      "_________________________________________________________________\n",
      "dense_10 (Dense)             (None, 1024)              2098176   \n",
      "_________________________________________________________________\n",
      "dropout_4 (Dropout)          (None, 1024)              0         \n",
      "_________________________________________________________________\n",
      "dense_11 (Dense)             (None, 1024)              1049600   \n",
      "_________________________________________________________________\n",
      "dense_12 (Dense)             (None, 100)               102500    \n",
      "=================================================================\n",
      "Total params: 23,274,660\n",
      "Trainable params: 23,235,940\n",
      "Non-trainable params: 38,720\n",
      "_________________________________________________________________\n"
     ]
    }
   ],
   "source": [
    "vgg_model_final.summary()"
   ]
  },
  {
   "cell_type": "code",
   "execution_count": 151,
   "metadata": {
    "colab": {
     "autoexec": {
      "startup": false,
      "wait_interval": 0
     },
     "base_uri": "https://localhost:8080/",
     "height": 588
    },
    "colab_type": "code",
    "executionInfo": {
     "elapsed": 1456,
     "status": "ok",
     "timestamp": 1528651309802,
     "user": {
      "displayName": "Nikunj jain",
      "photoUrl": "https://lh3.googleusercontent.com/a/default-user=s128",
      "userId": "114830894282907235020"
     },
     "user_tz": -330
    },
    "id": "9yHSCf9z8V9A",
    "outputId": "b2ee74b0-93a8-48fe-c9d3-b8c657ec2069",
    "scrolled": true
   },
   "outputs": [
    {
     "data": {
      "image/png": "[encoded data removed]",
      "text/plain": [
       "<matplotlib.figure.Figure at 0x7f64498e92b0>"
      ]
     },
     "metadata": {
      "tags": []
     },
     "output_type": "display_data"
    },
    {
     "data": {
      "text/plain": [
       "<matplotlib.figure.Figure at 0x7f6449a965f8>"
      ]
     },
     "metadata": {
      "tags": []
     },
     "output_type": "display_data"
    },
    {
     "data": {
      "image/png": "[encoded data removed]",
      "text/plain": [
       "<matplotlib.figure.Figure at 0x7f644b12ddd8>"
      ]
     },
     "metadata": {
      "tags": []
     },
     "output_type": "display_data"
    }
   ],
   "source": [
    "#  \"Accuracy\"\n",
    "plt.plot(history.history['acc'])\n",
    "plt.title('Model Accuracy')\n",
    "plt.ylabel('Accuracy')\n",
    "plt.xlabel('Epochs')\n",
    "plt.figure(figsize=(100,200))\n",
    "plt.show()\n",
    "\n",
    "#Loss\n",
    "plt.plot(history.history['loss'])\n",
    "plt.title('Model Loss')\n",
    "plt.xlabel('Epochs')\n",
    "plt.ylabel('Loss')\n",
    "plt.show()"
   ]
  },
  {
   "cell_type": "markdown",
   "metadata": {},
   "source": [
    "# Predicting labels for Test Set"
   ]
  },
  {
   "cell_type": "code",
   "execution_count": 0,
   "metadata": {
    "colab": {
     "autoexec": {
      "startup": false,
      "wait_interval": 0
     }
    },
    "colab_type": "code",
    "id": "gqL6TyeRhB_J"
   },
   "outputs": [],
   "source": [
    "y_proba = vgg_model_final.predict(x_test)\n",
    "y_classes = y_proba.argmax(axis=-1)"
   ]
  },
  {
   "cell_type": "code",
   "execution_count": 102,
   "metadata": {
    "colab": {
     "autoexec": {
      "startup": false,
      "wait_interval": 0
     },
     "base_uri": "https://localhost:8080/",
     "height": 816
    },
    "colab_type": "code",
    "collapsed": true,
    "executionInfo": {
     "elapsed": 1223,
     "status": "ok",
     "timestamp": 1528645606978,
     "user": {
      "displayName": "Nikunj jain",
      "photoUrl": "https://lh3.googleusercontent.com/a/default-user=s128",
      "userId": "114830894282907235020"
     },
     "user_tz": -330
    },
    "id": "BAKqWpqVT-GB",
    "outputId": "e8ff6085-4df1-4307-82d7-1b87f7298e0d"
   },
   "outputs": [
    {
     "data": {
      "text/plain": [
       "array([ 65, 112,  61, 100,   0,  61,  17, 118,  85, 193, 159, 137,  39,\n",
       "        37,  76, 100,  11,  61, 197,  63,  27, 164, 141, 172,  61, 131,\n",
       "         2,  23,  34, 164,  99, 145, 166, 106,  37, 193, 132,  57,  92,\n",
       "        12,  49, 141, 100, 188,  44,   0,  92,  19,  61, 184,  82, 105,\n",
       "       177, 123,  92,  77,  45, 107, 134, 153, 174,  13,  81, 153, 140,\n",
       "        49, 129, 132,  60, 196, 105, 188,  99,   2,  37,  50,   1,  99,\n",
       "         6, 193,  41,  64, 184,  61, 196,  97,  49, 146, 199,   8, 155,\n",
       "        90, 193,  45,  51, 193, 119,   1, 150,  99,  95,   5,  35, 180,\n",
       "         0, 106,  75,  27, 103,  85, 106, 196, 164, 193, 111,  81, 109,\n",
       "       184,  39,  49,  27, 155, 138, 180,   0,  83, 111,  49, 154, 105,\n",
       "        64, 106,  75, 172,   1, 196, 177, 100,   0,  72,  46, 158,  36,\n",
       "       142,  99,  92, 104, 188,   2, 124,  84,  68,  35, 108,  24,   6,\n",
       "       177,  96, 151,  37,  61,  14, 159, 193,  95, 124,  97,  45,  67,\n",
       "       196,  33,  29, 191, 153, 161, 152, 155,  92,  85,  48, 149,  19,\n",
       "       103, 138,   0, 112,  61, 139,   5, 154, 184, 100,  61, 113, 137,\n",
       "        95, 138, 137,  60, 103,  99,  42,   9,  49, 187, 175,  49, 137,\n",
       "       103,  62,  56,  78, 196, 107,  49, 193, 153, 146, 137,  57, 177,\n",
       "       137,  81,  21,  98,  99, 188, 145,   2,  63,  16,  39, 140,  57,\n",
       "       197,  96,  13, 137, 129, 123, 192,  97,  75, 152,  54, 192, 150,\n",
       "        99, 172,   2, 197, 152,  57,  56, 181,  89, 142,  62,  95,  21,\n",
       "       137,  86,  27,  17,  37, 155, 155, 164,  92,  49,  96, 153,  55,\n",
       "       182, 138,  36,  87, 192,  50, 138, 112, 131, 103, 155,  95, 140,\n",
       "       188, 155, 197, 191, 114,  57,  61, 138,  62,  57,   8, 112,  35,\n",
       "        44, 192, 109, 188,  81,   5,   1, 193, 164,  49,  68, 103, 137,\n",
       "       118,  79, 111, 109, 103, 159, 118, 193,   0,  99, 114, 197, 164,\n",
       "       141, 196,  60, 107, 164, 103, 191,  79,  61, 114,  82, 196,  64,\n",
       "        89,  36, 137, 111,  62, 197,  42,  36,   6, 153,  64, 188,   6,\n",
       "       105, 155,  95,  95,  96,   6, 112,  57, 137,  49,  42,   0,  62,\n",
       "       197, 119,  99,  19, 104,  38,  67,  89, 137,  97,  99,  99,  56,\n",
       "       166, 123,  77, 152, 155, 182, 114,   8,  47, 160, 145,  57,   0,\n",
       "        95,  83, 192, 180,  53, 170, 175, 129,   2, 199,  86,   5, 110,\n",
       "       160,  81,  48, 103,  56, 112, 191, 155,   5, 167, 193, 150,  27,\n",
       "       197, 199, 179,  57,  51,  60, 197,  60, 131, 152, 149,  50,  61,\n",
       "        17,   2, 192,  27, 147,  99,  60, 191,  39, 123, 151, 132, 180,\n",
       "        48,   6, 137, 132,  76,   0,  58,  49,  82, 137,  51,  34,   6,\n",
       "       193,  37, 142, 140, 138,  21, 159,  67, 177, 193,  75, 166,  49,\n",
       "       108, 197,   3, 113, 147,   0, 155,  25,   6,  25,  61, 124,  60,\n",
       "        61, 129,   3,   1, 132,  35,  29,  90, 126,  68, 185,  62, 159,\n",
       "        27,  71, 155,  57, 124, 145, 132, 155,  45, 124, 131,  46, 153,\n",
       "         1,   6, 119,  81, 131, 150, 113,  17, 172,  61, 184, 164, 131,\n",
       "       152,  58,  29, 110, 151,  37,  86, 103,  86, 159,   0, 126,  62,\n",
       "        29,  38, 164, 184, 178, 164,  97, 175,  24,  67,  45, 111, 132,\n",
       "       132,  19, 197, 159, 164,  39,   8,  62, 153, 107,   9,  64, 175,\n",
       "       108, 100, 170,  57,  95,  29,   2, 185, 147,  49,  58,  44,  71,\n",
       "       112, 153, 104, 137, 104, 177,  62, 112, 166,  75,  92, 103,   2,\n",
       "         8, 113, 100,   1,   0,  92, 137, 193, 125,  13, 129, 152, 118,\n",
       "       151,  47,   1,  61, 153,  44, 169, 155,  13,  37, 184,  84])"
      ]
     },
     "execution_count": 102,
     "metadata": {
      "tags": []
     },
     "output_type": "execute_result"
    }
   ],
   "source": [
    "y_classes"
   ]
  },
  {
   "cell_type": "code",
   "execution_count": 145,
   "metadata": {
    "colab": {
     "autoexec": {
      "startup": false,
      "wait_interval": 0
     },
     "base_uri": "https://localhost:8080/",
     "height": 302
    },
    "colab_type": "code",
    "executionInfo": {
     "elapsed": 1256,
     "status": "ok",
     "timestamp": 1528649191774,
     "user": {
      "displayName": "Nikunj jain",
      "photoUrl": "https://lh3.googleusercontent.com/a/default-user=s128",
      "userId": "114830894282907235020"
     },
     "user_tz": -330
    },
    "id": "KJClSFdNZ1sa",
    "outputId": "a09df723-4ed4-4637-d2e0-168cc145a311",
    "scrolled": true
   },
   "outputs": [
    {
     "name": "stdout",
     "output_type": "stream",
     "text": [
      "   Actual Class: 5\n",
      "   Predicted Class: 131\n"
     ]
    },
    {
     "data": {
      "image/png": "[encoded data removed]",
      "text/plain": [
       "<matplotlib.figure.Figure at 0x7f6448f245c0>"
      ]
     },
     "metadata": {
      "tags": []
     },
     "output_type": "display_data"
    }
   ],
   "source": [
    "i=25\n",
    "print(\"   Actual Class:\",yt[i])\n",
    "print(\"   Predicted Class:\",y_classes[i])\n",
    "plt.imshow(x_test[i])\n",
    "plt.show()"
   ]
  }
 ],
 "metadata": {
  "accelerator": "GPU",
  "colab": {
   "collapsed_sections": [
    "h4cV095ZMGCv",
    "gMchBzafXgdI"
   ],
   "default_view": {},
   "name": "Landmark_Recognition_200.ipynb",
   "provenance": [
    {
     "file_id": "1EhoDUGu3oVUR7ML153sZLeQAmFFDs0pU",
     "timestamp": 1521283384693
    }
   ],
   "version": "0.3.2",
   "views": {}
  },
  "kernelspec": {
   "display_name": "Python 3",
   "language": "python",
   "name": "python3"
  },
  "language_info": {
   "codemirror_mode": {
    "name": "ipython",
    "version": 3
   },
   "file_extension": ".py",
   "mimetype": "text/x-python",
   "name": "python",
   "nbconvert_exporter": "python",
   "pygments_lexer": "ipython3",
   "version": "3.5.4"
  }
 },
 "nbformat": 4,
 "nbformat_minor": 1
}
